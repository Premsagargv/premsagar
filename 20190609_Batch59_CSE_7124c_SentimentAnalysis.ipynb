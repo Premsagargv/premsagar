{
 "cells": [
  {
   "cell_type": "code",
   "execution_count": 1,
   "metadata": {
    "ExecuteTime": {
     "end_time": "2019-04-20T15:48:16.756618Z",
     "start_time": "2019-04-20T15:48:15.607401Z"
    }
   },
   "outputs": [],
   "source": [
    "import os\n",
    "import nltk\n",
    "import random\n",
    "from sklearn.metrics import confusion_matrix\n",
    "import pandas as pd"
   ]
  },
  {
   "cell_type": "markdown",
   "metadata": {},
   "source": [
    "## Reading the text file"
   ]
  },
  {
   "cell_type": "code",
   "execution_count": 2,
   "metadata": {
    "ExecuteTime": {
     "end_time": "2019-04-20T15:48:18.054859Z",
     "start_time": "2019-04-20T15:48:18.038946Z"
    }
   },
   "outputs": [],
   "source": [
    "with open(\"positive.txt\", \"r\", encoding='latin-1') as f:\n",
    "    pos_docs = f.read()\n",
    "    pos_docs = pos_docs.split('\\n')\n",
    "\n",
    "with open(\"negative.txt\", \"r\", encoding='latin-1') as f:\n",
    "    neg_docs = f.read()\n",
    "    neg_docs = neg_docs.split('\\n')"
   ]
  },
  {
   "cell_type": "code",
   "execution_count": 3,
   "metadata": {
    "ExecuteTime": {
     "end_time": "2019-04-20T15:48:18.796411Z",
     "start_time": "2019-04-20T15:48:18.790884Z"
    }
   },
   "outputs": [
    {
     "name": "stdout",
     "output_type": "stream",
     "text": [
      "5332\n",
      "5332\n"
     ]
    }
   ],
   "source": [
    "print(len(pos_docs))\n",
    "print(len(neg_docs))"
   ]
  },
  {
   "cell_type": "markdown",
   "metadata": {},
   "source": [
    "## Combining documents"
   ]
  },
  {
   "cell_type": "code",
   "execution_count": 4,
   "metadata": {
    "ExecuteTime": {
     "end_time": "2019-04-20T15:48:19.323085Z",
     "start_time": "2019-04-20T15:48:19.284561Z"
    }
   },
   "outputs": [
    {
     "data": {
      "text/html": [
       "<div>\n",
       "<style scoped>\n",
       "    .dataframe tbody tr th:only-of-type {\n",
       "        vertical-align: middle;\n",
       "    }\n",
       "\n",
       "    .dataframe tbody tr th {\n",
       "        vertical-align: top;\n",
       "    }\n",
       "\n",
       "    .dataframe thead th {\n",
       "        text-align: right;\n",
       "    }\n",
       "</style>\n",
       "<table border=\"1\" class=\"dataframe\">\n",
       "  <thead>\n",
       "    <tr style=\"text-align: right;\">\n",
       "      <th></th>\n",
       "      <th>Review</th>\n",
       "      <th>Sentiment</th>\n",
       "    </tr>\n",
       "  </thead>\n",
       "  <tbody>\n",
       "    <tr>\n",
       "      <th>7367</th>\n",
       "      <td>for anyone who grew up on disney's 1950 treasu...</td>\n",
       "      <td>NEG</td>\n",
       "    </tr>\n",
       "    <tr>\n",
       "      <th>8634</th>\n",
       "      <td>sadly , 'garth' hasn't progressed as nicely as...</td>\n",
       "      <td>NEG</td>\n",
       "    </tr>\n",
       "    <tr>\n",
       "      <th>29</th>\n",
       "      <td>it helps that lil bow wow . . . tones down his...</td>\n",
       "      <td>POS</td>\n",
       "    </tr>\n",
       "    <tr>\n",
       "      <th>7152</th>\n",
       "      <td>. . . the film suffers from a lack of humor (...</td>\n",
       "      <td>NEG</td>\n",
       "    </tr>\n",
       "    <tr>\n",
       "      <th>5621</th>\n",
       "      <td>bad company . bad movie . just plain bad .</td>\n",
       "      <td>NEG</td>\n",
       "    </tr>\n",
       "    <tr>\n",
       "      <th>4191</th>\n",
       "      <td>miller comes at film with bracing intelligence...</td>\n",
       "      <td>POS</td>\n",
       "    </tr>\n",
       "    <tr>\n",
       "      <th>8853</th>\n",
       "      <td>. . . the good and different idea [of middle-...</td>\n",
       "      <td>NEG</td>\n",
       "    </tr>\n",
       "    <tr>\n",
       "      <th>10279</th>\n",
       "      <td>while hoffman's performance is great , the sub...</td>\n",
       "      <td>NEG</td>\n",
       "    </tr>\n",
       "    <tr>\n",
       "      <th>6342</th>\n",
       "      <td>the jokes are sophomoric , stereotypes are spr...</td>\n",
       "      <td>NEG</td>\n",
       "    </tr>\n",
       "    <tr>\n",
       "      <th>5368</th>\n",
       "      <td>please , someone , stop eric schaeffer before ...</td>\n",
       "      <td>NEG</td>\n",
       "    </tr>\n",
       "  </tbody>\n",
       "</table>\n",
       "</div>"
      ],
      "text/plain": [
       "                                                  Review Sentiment\n",
       "7367   for anyone who grew up on disney's 1950 treasu...       NEG\n",
       "8634   sadly , 'garth' hasn't progressed as nicely as...       NEG\n",
       "29     it helps that lil bow wow . . . tones down his...       POS\n",
       "7152    . . . the film suffers from a lack of humor (...       NEG\n",
       "5621         bad company . bad movie . just plain bad .        NEG\n",
       "4191   miller comes at film with bracing intelligence...       POS\n",
       "8853    . . . the good and different idea [of middle-...       NEG\n",
       "10279  while hoffman's performance is great , the sub...       NEG\n",
       "6342   the jokes are sophomoric , stereotypes are spr...       NEG\n",
       "5368   please , someone , stop eric schaeffer before ...       NEG"
      ]
     },
     "execution_count": 4,
     "metadata": {},
     "output_type": "execute_result"
    }
   ],
   "source": [
    "combined_docs = pos_docs + neg_docs\n",
    "labels = ['POS']*len(pos_docs) + ['NEG']*len(pos_docs)\n",
    "\n",
    "combined_df = pd.DataFrame({\"Review\": combined_docs, \"Sentiment\": labels})\n",
    "#combined_df = combined_df.sample(frac=1)\n",
    "combined_df = combined_df.sample(frac=1)\n",
    "\n",
    "\n",
    "combined_df.head(10)"
   ]
  },
  {
   "cell_type": "markdown",
   "metadata": {},
   "source": [
    "## Train-Test Split"
   ]
  },
  {
   "cell_type": "code",
   "execution_count": 5,
   "metadata": {
    "ExecuteTime": {
     "end_time": "2019-04-21T02:57:17.060153Z",
     "start_time": "2019-04-21T02:57:17.046017Z"
    }
   },
   "outputs": [],
   "source": [
    "from sklearn.model_selection import train_test_split\n",
    "\n",
    "y = combined_df['Sentiment'].tolist()\n",
    "X = combined_df.loc[:,'Review'].tolist()\n",
    "\n",
    "X_train, X_test, y_train, y_test = train_test_split(\n",
    "    X, y, test_size=0.2, random_state=1224)"
   ]
  },
  {
   "cell_type": "markdown",
   "metadata": {},
   "source": [
    "## TF-IDF Vectorization"
   ]
  },
  {
   "cell_type": "code",
   "execution_count": 6,
   "metadata": {
    "ExecuteTime": {
     "end_time": "2019-04-21T02:57:23.050125Z",
     "start_time": "2019-04-21T02:57:21.237279Z"
    }
   },
   "outputs": [
    {
     "name": "stdout",
     "output_type": "stream",
     "text": [
      "(8531, 3204)\n",
      "(2133, 3204)\n"
     ]
    }
   ],
   "source": [
    "from sklearn.feature_extraction.text import TfidfVectorizer\n",
    "tokenizer = TfidfVectorizer(ngram_range = (1,3), stop_words=None,min_df=10)\n",
    "X_train_tf = tokenizer.fit_transform(X_train).toarray()\n",
    "X_test_tf = tokenizer.transform(X_test).toarray()\n",
    "\n",
    "print(X_train_tf.shape)\n",
    "print(X_test_tf.shape)"
   ]
  },
  {
   "cell_type": "markdown",
   "metadata": {},
   "source": [
    "## Bringing down the dimentionality using SVD (optional)"
   ]
  },
  {
   "cell_type": "code",
   "execution_count": 7,
   "metadata": {
    "ExecuteTime": {
     "end_time": "2019-04-20T15:54:40.828137Z",
     "start_time": "2019-04-20T15:54:17.988640Z"
    },
    "code_folding": []
   },
   "outputs": [
    {
     "name": "stdout",
     "output_type": "stream",
     "text": [
      "0.925589315213874\n"
     ]
    }
   ],
   "source": [
    "from sklearn.decomposition import TruncatedSVD\n",
    "svd = TruncatedSVD(n_components=2000, n_iter=10, random_state=42)\n",
    "X_train_tf = svd.fit_transform(X_train_tf)\n",
    "print(svd.explained_variance_ratio_.sum())\n",
    "X_test_tf = svd.transform(X_test_tf)"
   ]
  },
  {
   "cell_type": "markdown",
   "metadata": {},
   "source": [
    "## Naive Bayes"
   ]
  },
  {
   "cell_type": "code",
   "execution_count": 8,
   "metadata": {
    "ExecuteTime": {
     "start_time": "2019-04-21T05:49:36.041Z"
    }
   },
   "outputs": [
    {
     "name": "stdout",
     "output_type": "stream",
     "text": [
      "Train Accuracy 0.6948775055679287\n",
      "[[3005 1253]\n",
      " [1350 2923]]\n",
      "              precision    recall  f1-score   support\n",
      "\n",
      "         NEG       0.69      0.71      0.70      4258\n",
      "         POS       0.70      0.68      0.69      4273\n",
      "\n",
      "   micro avg       0.69      0.69      0.69      8531\n",
      "   macro avg       0.69      0.69      0.69      8531\n",
      "weighted avg       0.69      0.69      0.69      8531\n",
      "\n",
      "Test Accuracy 0.6324425691514299\n",
      "[[825 249]\n",
      " [535 524]]\n",
      "              precision    recall  f1-score   support\n",
      "\n",
      "         NEG       0.61      0.77      0.68      1074\n",
      "         POS       0.68      0.49      0.57      1059\n",
      "\n",
      "   micro avg       0.63      0.63      0.63      2133\n",
      "   macro avg       0.64      0.63      0.62      2133\n",
      "weighted avg       0.64      0.63      0.63      2133\n",
      "\n"
     ]
    }
   ],
   "source": [
    "from sklearn.naive_bayes import GaussianNB\n",
    "from sklearn.metrics import confusion_matrix, classification_report\n",
    "\n",
    "NBclassifier = GaussianNB()\n",
    "NBclassifier.fit(X_train_tf, y_train)\n",
    "\n",
    "## Predictions\n",
    "train_nb_preds = NBclassifier.predict(X_train_tf)\n",
    "test_nb_preds = NBclassifier.predict(X_test_tf)\n",
    "\n",
    "print(\"Train Accuracy\",NBclassifier.score(X_train_tf,y_train))\n",
    "print(confusion_matrix(y_train,train_nb_preds))\n",
    "print(classification_report(y_train,train_nb_preds))\n",
    "\n",
    "print(\"Test Accuracy\",NBclassifier.score(X_test_tf,y_test))\n",
    "print(confusion_matrix(y_test,test_nb_preds))\n",
    "print(classification_report(y_test,test_nb_preds))"
   ]
  },
  {
   "cell_type": "markdown",
   "metadata": {},
   "source": [
    "## Logistic Regression"
   ]
  },
  {
   "cell_type": "code",
   "execution_count": 10,
   "metadata": {
    "ExecuteTime": {
     "end_time": "2019-04-21T02:58:39.102113Z",
     "start_time": "2019-04-21T02:58:38.690667Z"
    }
   },
   "outputs": [
    {
     "name": "stderr",
     "output_type": "stream",
     "text": [
      "/anaconda3/lib/python3.7/site-packages/sklearn/linear_model/logistic.py:433: FutureWarning: Default solver will be changed to 'lbfgs' in 0.22. Specify a solver to silence this warning.\n",
      "  FutureWarning)\n"
     ]
    },
    {
     "name": "stdout",
     "output_type": "stream",
     "text": [
      "Train Accuracy 0.8262806236080178\n",
      "[[3594  711]\n",
      " [ 771 3455]]\n",
      "              precision    recall  f1-score   support\n",
      "\n",
      "         NEG       0.82      0.83      0.83      4305\n",
      "         POS       0.83      0.82      0.82      4226\n",
      "\n",
      "   micro avg       0.83      0.83      0.83      8531\n",
      "   macro avg       0.83      0.83      0.83      8531\n",
      "weighted avg       0.83      0.83      0.83      8531\n",
      "\n",
      "Test Accuracy 0.7501172058134083\n",
      "[[784 243]\n",
      " [290 816]]\n",
      "              precision    recall  f1-score   support\n",
      "\n",
      "         NEG       0.73      0.76      0.75      1027\n",
      "         POS       0.77      0.74      0.75      1106\n",
      "\n",
      "   micro avg       0.75      0.75      0.75      2133\n",
      "   macro avg       0.75      0.75      0.75      2133\n",
      "weighted avg       0.75      0.75      0.75      2133\n",
      "\n"
     ]
    }
   ],
   "source": [
    "from sklearn.linear_model import LogisticRegression\n",
    "logit = LogisticRegression()\n",
    "logit.fit(X_train_tf,y_train)\n",
    "\n",
    "## Predictions\n",
    "train_logit_preds = logit.predict(X_train_tf)\n",
    "test_logit_preds = logit.predict(X_test_tf)\n",
    "\n",
    "print(\"Train Accuracy\",logit.score(X_train_tf,y_train))\n",
    "print(confusion_matrix(y_train,train_logit_preds))\n",
    "print(classification_report(y_train,train_logit_preds))\n",
    "\n",
    "print(\"Test Accuracy\",logit.score(X_test_tf,y_test))\n",
    "print(confusion_matrix(y_test,test_logit_preds))\n",
    "print(classification_report(y_test,test_logit_preds))"
   ]
  },
  {
   "cell_type": "markdown",
   "metadata": {},
   "source": [
    "## Random Forest with parameter tuning"
   ]
  },
  {
   "cell_type": "code",
   "execution_count": 42,
   "metadata": {
    "ExecuteTime": {
     "end_time": "2019-04-21T02:57:51.567051Z",
     "start_time": "2019-04-21T02:57:36.325415Z"
    }
   },
   "outputs": [
    {
     "data": {
      "text/plain": [
       "RandomForestClassifier(bootstrap=True, class_weight='balanced',\n",
       "            criterion='gini', max_depth=16, max_features='sqrt',\n",
       "            max_leaf_nodes=None, min_impurity_decrease=0.0,\n",
       "            min_impurity_split=None, min_samples_leaf=20,\n",
       "            min_samples_split=2, min_weight_fraction_leaf=0.0,\n",
       "            n_estimators=100, n_jobs=-1, oob_score=False,\n",
       "            random_state=None, verbose=0, warm_start=False)"
      ]
     },
     "execution_count": 42,
     "metadata": {},
     "output_type": "execute_result"
    }
   ],
   "source": [
    "from sklearn.model_selection import RandomizedSearchCV\n",
    "from sklearn.metrics import recall_score, precision_score, f1_score, make_scorer\n",
    "score_metric = make_scorer(f1_score, pos_label='POS')\n",
    "## n_jobs = -1 uses all cores of processor\n",
    "## max_features is the maximum number of attributes to select for each tree\n",
    "rfc_grid = RandomForestClassifier(n_jobs=-1, max_features='sqrt', class_weight='balanced')\n",
    " \n",
    "# Use a grid over parameters of interest\n",
    "## n_estimators is the number of trees in the forest\n",
    "## max_depth is how deep each tree can be\n",
    "## min_sample_leaf is the minimum samples required in each leaf node for the root node to split\n",
    "## \"A node will only be split if in each of it's leaf nodes there should be min_sample_leaf\"\n",
    "\n",
    "param_grid = {\"n_estimators\" : [10, 25, 50, 75, 100],\n",
    "           \"max_depth\" : [10, 12, 14, 16, 18, 20],\n",
    "           \"min_samples_leaf\" : [5, 10, 15, 20]}\n",
    " \n",
    "rfc_cv_grid = RandomizedSearchCV(estimator = rfc_grid, param_distributions = param_grid, cv = 3, n_iter=20, scoring=score_metric, n_jobs=8)\n",
    "rfc_cv_grid.fit(X_train_tf, y_train)\n",
    "rfc_cv_grid.best_estimator_"
   ]
  },
  {
   "cell_type": "code",
   "execution_count": 43,
   "metadata": {
    "ExecuteTime": {
     "end_time": "2019-04-21T02:57:56.005547Z",
     "start_time": "2019-04-21T02:57:55.553499Z"
    }
   },
   "outputs": [
    {
     "name": "stdout",
     "output_type": "stream",
     "text": [
      "Train\n",
      "0.7015590200445434\n",
      "[[3057 1225]\n",
      " [1321 2928]]\n",
      "              precision    recall  f1-score   support\n",
      "\n",
      "         NEG       0.70      0.71      0.71      4282\n",
      "         POS       0.71      0.69      0.70      4249\n",
      "\n",
      "   micro avg       0.70      0.70      0.70      8531\n",
      "   macro avg       0.70      0.70      0.70      8531\n",
      "weighted avg       0.70      0.70      0.70      8531\n",
      "\n",
      "OOB Score 0.5596061423045364\n",
      "Test\n",
      "0.6451007969995312\n",
      "[[671 379]\n",
      " [378 705]]\n",
      "              precision    recall  f1-score   support\n",
      "\n",
      "         NEG       0.64      0.64      0.64      1050\n",
      "         POS       0.65      0.65      0.65      1083\n",
      "\n",
      "   micro avg       0.65      0.65      0.65      2133\n",
      "   macro avg       0.65      0.65      0.65      2133\n",
      "weighted avg       0.65      0.65      0.65      2133\n",
      "\n"
     ]
    }
   ],
   "source": [
    "rfc_train_pred = rfc_cv_grid.best_estimator_.predict(X_train_tf)\n",
    "rfc_test_pred = rfc_cv_grid.best_estimator_.predict(X_test_tf)\n",
    "\n",
    "print(\"Train\")\n",
    "print(accuracy_score(y_train,rfc_train_pred))\n",
    "print(confusion_matrix(y_train,rfc_train_pred))\n",
    "print(classification_report(y_train,rfc_train_pred))\n",
    "\n",
    "print(\"OOB Score\", rfc_50.oob_score_)\n",
    "\n",
    "print(\"Test\")\n",
    "print(accuracy_score(y_test,rfc_test_pred))\n",
    "print(confusion_matrix(y_test,rfc_test_pred))\n",
    "print(classification_report(y_test,rfc_test_pred))"
   ]
  },
  {
   "cell_type": "markdown",
   "metadata": {},
   "source": [
    "## KNN"
   ]
  },
  {
   "cell_type": "code",
   "execution_count": 24,
   "metadata": {
    "ExecuteTime": {
     "end_time": "2018-11-23T16:14:27.522596Z",
     "start_time": "2018-11-23T16:14:27.514424Z"
    }
   },
   "outputs": [],
   "source": [
    "# from sklearn.neighbors import KNeighborsClassifier\n",
    "# knn = KNeighborsClassifier(n_neighbors=5)\n",
    "# knn.fit(X_train,y_train)\n",
    "# print(\"Train Accuracy\",knn.score(X_train,y_train))\n",
    "# print(\"Test Accuracy\",knn.score(X_test,y_test))"
   ]
  },
  {
   "cell_type": "markdown",
   "metadata": {},
   "source": [
    "## SVM"
   ]
  },
  {
   "cell_type": "code",
   "execution_count": null,
   "metadata": {
    "ExecuteTime": {
     "start_time": "2019-04-20T19:20:35.839Z"
    }
   },
   "outputs": [],
   "source": [
    "from sklearn.svm import SVC\n",
    "svm_model = SVC(C=.1, gamma=1, kernel='rbf', cache_size=5900, )\n",
    "svm_model.fit(X_train_tf, y_train)\n",
    "\n",
    "train_svm_preds = svm_model.predict(X_train_tf)\n",
    "test_svm_preds = svm_model.predict(X_test_tf)\n",
    "\n",
    "print(\"Train Accuracy\",svm_model.score(X_train_tf,y_train))\n",
    "print(confusion_matrix(y_train,train_svm_preds))\n",
    "print(classification_report(y_train,train_svm_preds))\n",
    "\n",
    "print(\"Test Accuracy\",svm_model.score(X_test_tf,y_test))\n",
    "print(confusion_matrix(y_test,test_svm_preds))\n",
    "print(classification_report(y_test,test_svm_preds))"
   ]
  },
  {
   "cell_type": "code",
   "execution_count": 28,
   "metadata": {
    "ExecuteTime": {
     "end_time": "2019-04-20T16:01:10.041656Z",
     "start_time": "2019-04-20T15:59:58.071537Z"
    }
   },
   "outputs": [
    {
     "name": "stdout",
     "output_type": "stream",
     "text": [
      "Train Accuracy 0.8110420818192474\n",
      "Test Accuracy 0.7238631036099391\n"
     ]
    }
   ],
   "source": [
    "from sklearn.svm import SVC\n",
    "from sklearn.ensemble import BaggingClassifier\n",
    "\n",
    "BagClassifier = BaggingClassifier(SVC(C=50,gamma=1,kernel='rbf',cache_size=1900),n_estimators=12,max_samples=0.20,n_jobs=-1)\n",
    "BagClassifier.fit(X_train_tf,y_train)\n",
    "print(\"Train Accuracy\",BagClassifier.score(X_train_tf,y_train))\n",
    "print(\"Test Accuracy\",BagClassifier.score(X_test_tf,y_test))"
   ]
  },
  {
   "cell_type": "code",
   "execution_count": null,
   "metadata": {},
   "outputs": [],
   "source": []
  }
 ],
 "metadata": {
  "anaconda-cloud": {},
  "kernelspec": {
   "display_name": "Python 3",
   "language": "python",
   "name": "python3"
  },
  "language_info": {
   "codemirror_mode": {
    "name": "ipython",
    "version": 3
   },
   "file_extension": ".py",
   "mimetype": "text/x-python",
   "name": "python",
   "nbconvert_exporter": "python",
   "pygments_lexer": "ipython3",
   "version": "3.7.1"
  },
  "varInspector": {
   "cols": {
    "lenName": 16,
    "lenType": 16,
    "lenVar": 40
   },
   "kernels_config": {
    "python": {
     "delete_cmd_postfix": "",
     "delete_cmd_prefix": "del ",
     "library": "var_list.py",
     "varRefreshCmd": "print(var_dic_list())"
    },
    "r": {
     "delete_cmd_postfix": ") ",
     "delete_cmd_prefix": "rm(",
     "library": "var_list.r",
     "varRefreshCmd": "cat(var_dic_list()) "
    }
   },
   "types_to_exclude": [
    "module",
    "function",
    "builtin_function_or_method",
    "instance",
    "_Feature"
   ],
   "window_display": false
  }
 },
 "nbformat": 4,
 "nbformat_minor": 1
}
