{
 "cells": [
  {
   "cell_type": "code",
   "execution_count": 1,
   "metadata": {},
   "outputs": [],
   "source": [
    "## Set Python - Spark environment.\n",
    "import os\n",
    "import sys\n",
    "\n",
    "os.environ[\"SPARK_HOME\"] = \"/usr/hdp/current/spark2-client\"\n",
    "os.environ[\"PYLIB\"] = os.environ[\"SPARK_HOME\"] + \"/python/lib\"\n",
    "os.environ['PYSPARK_SUBMIT_ARGS'] = '--jars /home/2728B59/mysql-connector-java-5.1.2.jar  pyspark-shell'\n",
    "sys.path.insert(0, os.environ[\"PYLIB\"] + \"/py4j-0.10.4-src.zip\")\n",
    "sys.path.insert(0, os.environ[\"PYLIB\"] + \"/pyspark.zip\")"
   ]
  },
  {
   "cell_type": "code",
   "execution_count": 2,
   "metadata": {},
   "outputs": [],
   "source": [
    "## Create SparkContext, SparkSession\n",
    "from os.path import expanduser, join, abspath\n",
    "\n",
    "from pyspark.sql import SparkSession\n",
    "from pyspark.sql import Row\n",
    "\n",
    "# warehouse_location points to the default location for managed databases and tables\n",
    "warehouse_location = 'hdfs:///apps/hive/warehouse/'\n",
    "\n",
    "spark = SparkSession \\\n",
    "    .builder \\\n",
    "    .appName(\"Python Spark SQL using BI On Hadoop\") \\\n",
    "    .config(\"spark.sql.warehouse.dir\", warehouse_location) \\\n",
    "    .enableHiveSupport() \\\n",
    "    .getOrCreate()"
   ]
  },
  {
   "cell_type": "code",
   "execution_count": 3,
   "metadata": {},
   "outputs": [],
   "source": [
    "## Create SparkContext, SparkSession\n",
    "from pyspark.sql import SparkSession\n",
    "from pyspark import SparkContext\n",
    "#sc = SparkContext()\n",
    "#spark = SparkSession(sc)\n",
    "\n",
    "#spark"
   ]
  },
  {
   "cell_type": "code",
   "execution_count": 4,
   "metadata": {},
   "outputs": [],
   "source": [
    "from pyspark.sql.types import *\n",
    "from pyspark.sql.functions import *\n",
    "from pyspark.sql.functions import isnan, when, count, col, countDistinct"
   ]
  },
  {
   "cell_type": "code",
   "execution_count": 5,
   "metadata": {},
   "outputs": [
    {
     "name": "stdout",
     "output_type": "stream",
     "text": [
      "/home/2728B59\r\n"
     ]
    }
   ],
   "source": [
    "!pwd"
   ]
  },
  {
   "cell_type": "code",
   "execution_count": 6,
   "metadata": {},
   "outputs": [],
   "source": [
    "## Define Schema\n",
    "dataSchema = StructType([\n",
    "    StructField(\"age_upon_outcome\", StringType(), True),\n",
    "    StructField(\"animal_id_outcome\", StringType(), True),\n",
    "    StructField(\"date_of_birth\", TimestampType(), True),\n",
    "    StructField(\"outcome_subtype\", StringType(), True),\n",
    "    StructField(\"outcome_type\", StringType(), True),\n",
    "    StructField(\"sex_upon_outcome\", StringType(), True),\n",
    "    StructField(\"age_upon_outcome_(days)\", IntegerType(), True),\n",
    "    StructField(\"age_upon_outcome_(years)\", DoubleType(), True),\n",
    "    StructField(\"age_upon_outcome_age_group\", StringType(), True),\n",
    "    StructField(\"outcome_datetime\", TimestampType(), True),\n",
    "    StructField(\"outcome_month\", IntegerType(), True),\n",
    "    StructField(\"outcome_year\", IntegerType(), True),\n",
    "    StructField(\"outcome_monthyear\", StringType(), True),\n",
    "    StructField(\"outcome_weekday\", StringType(), True),\n",
    "    StructField(\"outcome_hour\", IntegerType(), True),\n",
    "    StructField(\"outcome_number\", DoubleType(), True),\n",
    "    StructField(\"dob_year\", IntegerType(), True),\n",
    "    StructField(\"dob_month\", IntegerType(), True),\n",
    "    StructField(\"dob_monthyear\", StringType(), True),\n",
    "    StructField(\"age_upon_intake\", StringType(), True),\n",
    "    StructField(\"animal_id_intake\", StringType(), True),\n",
    "    StructField(\"animal_type\", StringType(), True),\n",
    "    StructField(\"breed\", StringType(), True),\n",
    "    StructField(\"color\", StringType(), True),\n",
    "    StructField(\"found_location\", StringType(), True),\n",
    "    StructField(\"intake_condition\", StringType(), True),\n",
    "    StructField(\"intake_type\", StringType(), True),\n",
    "    StructField(\"sex_upon_intake\", StringType(), True),\n",
    "    StructField(\"count\", IntegerType(), True)\n",
    "])"
   ]
  },
  {
   "cell_type": "markdown",
   "metadata": {},
   "source": [
    "## .Load the animalFlumeData.csv"
   ]
  },
  {
   "cell_type": "code",
   "execution_count": 7,
   "metadata": {},
   "outputs": [],
   "source": [
    "Flume_Data =spark.read.format(\"csv\")\\\n",
    "        .option(\"header\", \"false\")\\\n",
    "        .option(\"inferSchema\", \"true\")\\\n",
    "        .load(\"file:///home/2728B59/animalFlumeData.csv\",schema = dataSchema)"
   ]
  },
  {
   "cell_type": "code",
   "execution_count": 8,
   "metadata": {},
   "outputs": [],
   "source": [
    "KafkaSchema = StructType([\n",
    "    StructField(\"animal_id_outcome\", StringType(), True),\n",
    "    StructField(\"age_upon_intake_days\", IntegerType(), True),\n",
    "    StructField(\"age_upon_intake_years\", DoubleType(), True),\n",
    "    StructField(\"age_upon_intake_age_group\", StringType(), True),\n",
    "    StructField(\"intake_datetime\", TimestampType(), True),\n",
    "    StructField(\"intake_month\", IntegerType(), True),\n",
    "    StructField(\"intake_year\", IntegerType(), True),\n",
    "    StructField(\"intake_monthyear\", StringType(), True),\n",
    "    StructField(\"intake_weekday\", StringType(), True),\n",
    "    StructField(\"intake_hour\", IntegerType(), True),\n",
    "    StructField(\"intake_number\", DoubleType(), True),\n",
    "    StructField(\"time_in_shelter\", StringType(), True),\n",
    "    StructField(\"time_in_shelter_days\", DoubleType(), True)\n",
    "])\n"
   ]
  },
  {
   "cell_type": "markdown",
   "metadata": {},
   "source": [
    "##  Load the animalKafkaTabData.csv"
   ]
  },
  {
   "cell_type": "code",
   "execution_count": 9,
   "metadata": {},
   "outputs": [],
   "source": [
    "Kafka_Data = spark.read.format(\"csv\")\\\n",
    "        .option(\"header\", \"false\")\\\n",
    "        .option(\"inferSchema\", \"true\")\\\n",
    "        .option ('delimiter','\\t')\\\n",
    "        .load(\"file:///home/2728B59/animalKafkaTabData.csv\",\n",
    "              schema = KafkaSchema)\n",
    "\n",
    "        "
   ]
  },
  {
   "cell_type": "code",
   "execution_count": 10,
   "metadata": {},
   "outputs": [
    {
     "name": "stdout",
     "output_type": "stream",
     "text": [
      "root\n",
      " |-- age_upon_outcome: string (nullable = true)\n",
      " |-- animal_id_outcome: string (nullable = true)\n",
      " |-- date_of_birth: timestamp (nullable = true)\n",
      " |-- outcome_subtype: string (nullable = true)\n",
      " |-- outcome_type: string (nullable = true)\n",
      " |-- sex_upon_outcome: string (nullable = true)\n",
      " |-- age_upon_outcome_(days): integer (nullable = true)\n",
      " |-- age_upon_outcome_(years): double (nullable = true)\n",
      " |-- age_upon_outcome_age_group: string (nullable = true)\n",
      " |-- outcome_datetime: timestamp (nullable = true)\n",
      " |-- outcome_month: integer (nullable = true)\n",
      " |-- outcome_year: integer (nullable = true)\n",
      " |-- outcome_monthyear: string (nullable = true)\n",
      " |-- outcome_weekday: string (nullable = true)\n",
      " |-- outcome_hour: integer (nullable = true)\n",
      " |-- outcome_number: double (nullable = true)\n",
      " |-- dob_year: integer (nullable = true)\n",
      " |-- dob_month: integer (nullable = true)\n",
      " |-- dob_monthyear: string (nullable = true)\n",
      " |-- age_upon_intake: string (nullable = true)\n",
      " |-- animal_id_intake: string (nullable = true)\n",
      " |-- animal_type: string (nullable = true)\n",
      " |-- breed: string (nullable = true)\n",
      " |-- color: string (nullable = true)\n",
      " |-- found_location: string (nullable = true)\n",
      " |-- intake_condition: string (nullable = true)\n",
      " |-- intake_type: string (nullable = true)\n",
      " |-- sex_upon_intake: string (nullable = true)\n",
      " |-- count: integer (nullable = true)\n",
      "\n"
     ]
    }
   ],
   "source": [
    "Flume_Data.printSchema()"
   ]
  },
  {
   "cell_type": "code",
   "execution_count": 11,
   "metadata": {},
   "outputs": [
    {
     "name": "stdout",
     "output_type": "stream",
     "text": [
      "+----------------+-----------------+-------------------+---------------+---------------+----------------+-----------------------+------------------------+--------------------------+-------------------+-------------+------------+-----------------+---------------+------------+--------------+--------+---------+-------------+---------------+----------------+-----------+--------------------+------------------+--------------------+----------------+---------------+---------------+-----+\n",
      "|age_upon_outcome|animal_id_outcome|      date_of_birth|outcome_subtype|   outcome_type|sex_upon_outcome|age_upon_outcome_(days)|age_upon_outcome_(years)|age_upon_outcome_age_group|   outcome_datetime|outcome_month|outcome_year|outcome_monthyear|outcome_weekday|outcome_hour|outcome_number|dob_year|dob_month|dob_monthyear|age_upon_intake|animal_id_intake|animal_type|               breed|             color|      found_location|intake_condition|    intake_type|sex_upon_intake|count|\n",
      "+----------------+-----------------+-------------------+---------------+---------------+----------------+-----------------------+------------------------+--------------------------+-------------------+-------------+------------+-----------------+---------------+------------+--------------+--------+---------+-------------+---------------+----------------+-----------+--------------------+------------------+--------------------+----------------+---------------+---------------+-----+\n",
      "|         1 month|          A678753|2014-04-12 00:00:00|        Partner|       Transfer|   Intact Female|                     30|      0.0821917808219178|             (-0.025, 2.5]|2014-05-30 16:59:00|            5|        2014|          2014-05|         Friday|          16|           1.0|    2014|        4|      2014-05|        4 weeks|         A678753|        Cat|Domestic Shorthai...|       Black/White|4101 Smith School...|          Normal|          Stray|  Intact Female|    1|\n",
      "|         1 month|          A680216|2014-04-15 00:00:00|        Partner|       Transfer|     Intact Male|                     30|      0.0821917808219178|             (-0.025, 2.5]|2014-05-31 11:30:00|            5|        2014|          2014-05|       Saturday|          11|           1.0|    2014|        4|      2014-05|        1 month|         A680216|        Dog| German Shepherd Mix|       Brown/Black|      Del Valle (TX)|          Normal|Owner Surrender|    Intact Male|    1|\n",
      "|         1 month|          A684348|2014-05-31 00:00:00|        Partner|       Transfer|   Intact Female|                     30|      0.0821917808219178|             (-0.025, 2.5]|2014-07-22 15:54:00|            7|        2014|          2014-07|        Tuesday|          15|           1.0|    2014|        5|      2014-07|        1 month|         A684348|        Cat|Domestic Shorthai...|            Tortie|4501 Leslie Ave i...|          Normal|          Stray|  Intact Female|    1|\n",
      "|         1 month|          A695315|2014-12-07 00:00:00|         Foster|       Adoption|   Neutered Male|                     30|      0.0821917808219178|             (-0.025, 2.5]|2015-01-27 18:00:00|            1|        2015|          2015-01|        Tuesday|          18|           1.0|    2014|       12|      2015-01|        1 month|         A695315|        Dog|        Pit Bull Mix|     Brown Brindle|10511 Brownie Dr ...|          Normal|          Stray|    Intact Male|    1|\n",
      "|         1 month|          A725965|2016-03-30 00:00:00|           null|       Adoption|   Intact Female|                     30|      0.0821917808219178|             (-0.025, 2.5]|2016-05-22 12:29:00|            5|        2016|          2016-05|         Sunday|          12|           1.0|    2016|        3|      2016-05|        5 weeks|         A725965|        Cat|Domestic Shorthai...|        Blue/White|5800 Cherry Park ...|          Normal|          Stray|  Intact Female|    1|\n",
      "|         1 month|          A751738|2017-04-27 00:00:00|      In Kennel|           Died|   Intact Female|                     30|      0.0821917808219178|             (-0.025, 2.5]|2017-06-18 07:49:00|            6|        2017|          2017-06|         Sunday|           7|           1.0|    2017|        4|      2017-06|        1 month|         A751738|        Cat|Domestic Shorthai...|      Orange Tabby|18509 Rivertimer ...|          Normal|          Stray|  Intact Female|    1|\n",
      "|         1 month|          A752800|2017-05-12 00:00:00|      Suffering|     Euthanasia|         Unknown|                     30|      0.0821917808219178|             (-0.025, 2.5]|2017-06-28 21:57:00|            6|        2017|          2017-06|      Wednesday|          21|           1.0|    2017|        5|      2017-06|        1 month|         A752800|        Cat|Domestic Shorthai...|        White/Blue|6118 Fairway in A...|          Normal|          Stray|        Unknown|    1|\n",
      "|         1 month|          A757046|2017-07-25 00:00:00|        Partner|       Transfer|   Intact Female|                     30|      0.0821917808219178|             (-0.025, 2.5]|2017-09-02 13:39:00|            9|        2017|          2017-09|       Saturday|          13|           1.0|    2017|        7|      2017-09|        5 weeks|         A757046|        Cat|Domestic Shorthai...|        Blue Tabby|8000 Blue Goose R...|          Normal|          Stray|  Intact Female|    1|\n",
      "|         1 month|          A764891|2017-12-04 00:00:00|         Foster|       Adoption|   Spayed Female|                     30|      0.0821917808219178|             (-0.025, 2.5]|2018-02-01 16:10:00|            2|        2018|          2018-02|       Thursday|          16|           1.0|    2017|       12|      2018-02|        5 weeks|         A764891|        Dog|Golden Retriever/...|             White|Bramble Bush And ...|         Nursing|          Stray|  Intact Female|    1|\n",
      "|         1 month|          A768764|2018-01-27 00:00:00|           null|       Adoption|   Spayed Female|                     30|      0.0821917808219178|             (-0.025, 2.5]|2018-03-29 17:21:00|            3|        2018|          2018-03|       Thursday|          17|           1.0|    2018|        1|      2018-03|        1 month|         A768764|        Dog| Black Mouth Cur Mix|       Brown/Black|5201 Ross Road in...|          Normal|          Stray|  Intact Female|    1|\n",
      "|         1 weeks|          A703895|2015-05-29 00:00:00|        Partner|       Transfer|         Unknown|                      7|    0.019178082191780823|             (-0.025, 2.5]|2015-06-07 12:36:00|            6|        2015|          2015-06|         Sunday|          12|           1.0|    2015|        5|      2015-06|          1 day|         A703895|        Cat|Domestic Shorthai...|             White|7201 Levander Loo...|         Nursing|          Stray|        Unknown|    1|\n",
      "|         1 weeks|          A705154|2015-06-11 00:00:00|        Partner|       Transfer|     Intact Male|                      7|    0.019178082191780823|             (-0.025, 2.5]|2015-06-19 13:44:00|            6|        2015|          2015-06|         Friday|          13|           1.0|    2015|        6|      2015-06|         3 days|         A705154|        Dog|American Stafford...|          Tricolor|7201 Levander Loo...|         Nursing|          Stray|    Intact Male|    1|\n",
      "|          1 year|          A646647|2012-11-06 00:00:00|        Partner|       Transfer|   Neutered Male|                    365|                     1.0|             (-0.025, 2.5]|2014-06-10 16:39:00|            6|        2014|          2014-06|        Tuesday|          16|           1.0|    2012|       11|      2014-06|         1 year|         A646647|        Cat|Domestic Shorthai...|Orange Tabby/White|         Austin (TX)|          Normal|Owner Surrender|  Neutered Male|    1|\n",
      "|          1 year|          A657795|2013-01-04 00:00:00|           null|Return to Owner|   Neutered Male|                    365|                     1.0|             (-0.025, 2.5]|2014-12-04 16:00:00|           12|        2014|          2014-12|       Thursday|          16|           1.0|    2013|        1|      2014-12|         1 year|         A657795|        Dog|Labrador Retrieve...|             Black|         Austin (TX)|          Normal|          Stray|  Neutered Male|    1|\n",
      "|          1 year|          A661685|2012-08-23 00:00:00|           null|Return to Owner|   Neutered Male|                    365|                     1.0|             (-0.025, 2.5]|2014-01-03 18:17:00|            1|        2014|          2014-01|         Friday|          18|           1.0|    2012|        8|      2014-01|         1 year|         A661685|        Dog|Labrador Retrieve...|             Black|         Austin (TX)|          Normal|  Public Assist|    Intact Male|    1|\n",
      "|          1 year|          A667725|2012-11-21 00:00:00|    Rabies Risk|     Euthanasia|         Unknown|                    365|                     1.0|             (-0.025, 2.5]|2013-11-21 19:10:00|           11|        2013|          2013-11|       Thursday|          19|           1.0|    2012|       11|      2013-11|         1 year|         A667725|      Other|         Raccoon Mix|              Gray|9401 Anderson Mil...|            Sick|       Wildlife|        Unknown|    1|\n",
      "|          1 year|          A668537|2012-12-04 00:00:00|        Partner|       Transfer|   Neutered Male|                    365|                     1.0|             (-0.025, 2.5]|2013-12-09 17:01:00|           12|        2013|          2013-12|         Monday|          17|           1.0|    2012|       12|      2013-12|         1 year|         A668537|        Dog|Miniature Pinsche...|         Black/Tan|     Lago Vista (TX)|          Normal|  Public Assist|    Intact Male|    1|\n",
      "|          1 year|          A668637|2012-06-06 00:00:00|        Partner|       Transfer|   Intact Female|                    365|                     1.0|             (-0.025, 2.5]|2013-12-18 12:36:00|           12|        2013|          2013-12|      Wednesday|          12|           1.0|    2012|        6|      2013-12|         1 year|         A668637|        Dog| German Shepherd Mix|               Tan|12201 Twin Creek ...|         Injured|Owner Surrender|  Intact Female|    1|\n",
      "|          1 year|          A672069|2013-02-03 00:00:00|    Rabies Risk|     Euthanasia|         Unknown|                    365|                     1.0|             (-0.025, 2.5]|2014-02-03 14:02:00|            2|        2014|          2014-02|         Monday|          14|           1.0|    2013|        2|      2014-02|         1 year|         A672069|      Other|         Raccoon Mix|        Gray/Black|11404 Calle Verde...|            Sick|       Wildlife|        Unknown|    1|\n",
      "|          1 year|          A672482|2013-02-11 00:00:00|           null|     Euthanasia|         Unknown|                    365|                     1.0|             (-0.025, 2.5]|2014-02-11 12:32:00|            2|        2014|          2014-02|        Tuesday|          12|           1.0|    2013|        2|      2014-02|         1 year|         A672482|      Other|             Raccoon|        Black/Gray|Heinneman And Kev...|            Sick|       Wildlife|        Unknown|    1|\n",
      "+----------------+-----------------+-------------------+---------------+---------------+----------------+-----------------------+------------------------+--------------------------+-------------------+-------------+------------+-----------------+---------------+------------+--------------+--------+---------+-------------+---------------+----------------+-----------+--------------------+------------------+--------------------+----------------+---------------+---------------+-----+\n",
      "only showing top 20 rows\n",
      "\n"
     ]
    }
   ],
   "source": [
    "Flume_Data.show()"
   ]
  },
  {
   "cell_type": "code",
   "execution_count": 12,
   "metadata": {},
   "outputs": [
    {
     "name": "stdout",
     "output_type": "stream",
     "text": [
      "root\n",
      " |-- animal_id_outcome: string (nullable = true)\n",
      " |-- age_upon_intake_days: integer (nullable = true)\n",
      " |-- age_upon_intake_years: double (nullable = true)\n",
      " |-- age_upon_intake_age_group: string (nullable = true)\n",
      " |-- intake_datetime: timestamp (nullable = true)\n",
      " |-- intake_month: integer (nullable = true)\n",
      " |-- intake_year: integer (nullable = true)\n",
      " |-- intake_monthyear: string (nullable = true)\n",
      " |-- intake_weekday: string (nullable = true)\n",
      " |-- intake_hour: integer (nullable = true)\n",
      " |-- intake_number: double (nullable = true)\n",
      " |-- time_in_shelter: string (nullable = true)\n",
      " |-- time_in_shelter_days: double (nullable = true)\n",
      "\n"
     ]
    }
   ],
   "source": [
    "Kafka_Data.printSchema()"
   ]
  },
  {
   "cell_type": "code",
   "execution_count": 13,
   "metadata": {},
   "outputs": [
    {
     "name": "stdout",
     "output_type": "stream",
     "text": [
      "+-----------------+--------------------+---------------------+-------------------------+-------------------+------------+-----------+----------------+--------------+-----------+-------------+--------------------+--------------------+\n",
      "|animal_id_outcome|age_upon_intake_days|age_upon_intake_years|age_upon_intake_age_group|    intake_datetime|intake_month|intake_year|intake_monthyear|intake_weekday|intake_hour|intake_number|     time_in_shelter|time_in_shelter_days|\n",
      "+-----------------+--------------------+---------------------+-------------------------+-------------------+------------+-----------+----------------+--------------+-----------+-------------+--------------------+--------------------+\n",
      "|          A178569|                5475|                 15.0|             (12.5, 15.0]|2014-03-17 09:45:00|           3|       2014|         2014-03|        Monday|          9|          1.0|6 days 06:12:00.0...|   6.258333333333334|\n",
      "|          A284639|                4015|                 11.0|             (10.0, 12.5]|2014-01-27 13:05:00|           1|       2014|         2014-01|        Monday|         13|          1.0|1 days 00:12:00.0...|  1.0083333333333333|\n",
      "|          A540495|                1825|                  5.0|               (2.5, 5.0]|2014-04-30 11:02:00|           4|       2014|         2014-04|     Wednesday|         11|          1.0|5 days 04:00:00.0...|   5.166666666666667|\n",
      "|          A554674|                4015|                 11.0|             (10.0, 12.5]|2017-09-29 21:52:00|           9|       2017|         2017-09|        Friday|         21|          1.0|1 days 07:08:00.0...|  1.2972222222222223|\n",
      "|          A556644|                2555|                  7.0|               (5.0, 7.5]|2016-05-25 18:23:00|           5|       2016|         2016-05|     Wednesday|         18|          1.0|0 days 00:58:00.0...| 0.04027777777777778|\n",
      "|          A565536|                2920|                  8.0|              (7.5, 10.0]|2017-11-09 16:44:00|          11|       2017|         2017-11|      Thursday|         16|          1.0|42 days 01:55:00....|  42.079861111111114|\n",
      "|          A576232|                2190|                  6.0|               (5.0, 7.5]|2017-02-04 12:42:00|           2|       2017|         2017-02|      Saturday|         12|          1.0|7 days 02:19:00.0...|   7.096527777777778|\n",
      "|          A609975|                2555|                  7.0|               (5.0, 7.5]|2017-04-28 16:24:00|           4|       2017|         2017-04|        Friday|         16|          1.0|1 days 23:40:00.0...|  1.9861111111111112|\n",
      "|          A619852|                1095|                  3.0|               (2.5, 5.0]|2015-01-05 16:00:00|           1|       2015|         2015-01|        Monday|         16|          1.0|6 days 19:37:00.0...|   6.817361111111111|\n",
      "|          A634503|                 730|                  2.0|            (-0.025, 2.5]|2013-10-01 14:49:00|          10|       2013|         2013-10|       Tuesday|         14|          1.0|0 days 21:51:00.0...|  0.9104166666666667|\n",
      "|          A644349|                1460|                  4.0|               (2.5, 5.0]|2015-04-01 15:23:00|           4|       2015|         2015-04|     Wednesday|         15|          1.0|0 days 02:25:00.0...| 0.10069444444444445|\n",
      "|          A646647|                 365|                  1.0|            (-0.025, 2.5]|2014-05-08 12:00:00|           5|       2014|         2014-05|      Thursday|         12|          1.0|33 days 04:39:00....|            33.19375|\n",
      "|          A648872|                 730|                  2.0|            (-0.025, 2.5]|2014-03-03 18:06:00|           3|       2014|         2014-03|        Monday|         18|          1.0|62 days 23:30:00....|  62.979166666666664|\n",
      "|          A649802|                 730|                  2.0|            (-0.025, 2.5]|2015-10-11 23:28:00|          10|       2015|         2015-10|        Sunday|         23|          1.0|0 days 19:31:00.0...|  0.8131944444444444|\n",
      "|          A656567|                1825|                  5.0|               (2.5, 5.0]|2016-11-17 11:40:00|          11|       2016|         2016-11|      Thursday|         11|          1.0|12 days 00:50:00....|  12.034722222222223|\n",
      "|          A657795|                 365|                  1.0|            (-0.025, 2.5]|2014-12-04 14:56:00|          12|       2014|         2014-12|      Thursday|         14|          1.0|0 days 01:04:00.0...| 0.04444444444444445|\n",
      "|          A661685|                 365|                  1.0|            (-0.025, 2.5]|2013-12-23 12:17:00|          12|       2013|         2013-12|        Monday|         12|          1.0|11 days 06:00:00....|  11.250000000000002|\n",
      "|          A664881|                 270|   0.7397260273972602|            (-0.025, 2.5]|2013-10-10 12:26:00|          10|       2013|         2013-10|      Thursday|         12|          1.0|6 days 06:19:00.0...|   6.263194444444444|\n",
      "|          A664963|                 730|                  2.0|            (-0.025, 2.5]|2013-10-11 17:28:00|          10|       2013|         2013-10|        Friday|         17|          1.0|24 days 18:39:00....|  24.777083333333334|\n",
      "|          A665277|                  30|   0.0821917808219178|            (-0.025, 2.5]|2013-10-15 18:42:00|          10|       2013|         2013-10|       Tuesday|         18|          1.0|3 days 22:55:00.0...|   3.954861111111111|\n",
      "+-----------------+--------------------+---------------------+-------------------------+-------------------+------------+-----------+----------------+--------------+-----------+-------------+--------------------+--------------------+\n",
      "only showing top 20 rows\n",
      "\n"
     ]
    }
   ],
   "source": [
    "Kafka_Data.show()"
   ]
  },
  {
   "cell_type": "code",
   "execution_count": 14,
   "metadata": {},
   "outputs": [
    {
     "data": {
      "text/plain": [
       "43604"
      ]
     },
     "execution_count": 14,
     "metadata": {},
     "output_type": "execute_result"
    }
   ],
   "source": [
    "Flume_Data.count()\n"
   ]
  },
  {
   "cell_type": "code",
   "execution_count": 15,
   "metadata": {},
   "outputs": [
    {
     "data": {
      "text/plain": [
       "71961"
      ]
     },
     "execution_count": 15,
     "metadata": {},
     "output_type": "execute_result"
    }
   ],
   "source": [
    "Kafka_Data.count()"
   ]
  },
  {
   "cell_type": "code",
   "execution_count": 16,
   "metadata": {},
   "outputs": [
    {
     "data": {
      "text/plain": [
       "DataFrame[]"
      ]
     },
     "execution_count": 16,
     "metadata": {},
     "output_type": "execute_result"
    }
   ],
   "source": [
    "spark.sql(\"USE insofe_animal59_PHD_DB\")\n"
   ]
  },
  {
   "cell_type": "code",
   "execution_count": 17,
   "metadata": {},
   "outputs": [
    {
     "name": "stdout",
     "output_type": "stream",
     "text": [
      "+--------------------+----------+-----------+\n",
      "|            database| tableName|isTemporary|\n",
      "+--------------------+----------+-----------+\n",
      "|insofe_animal59_p...|animaldata|      false|\n",
      "+--------------------+----------+-----------+\n",
      "\n"
     ]
    }
   ],
   "source": [
    "spark.sql(\"show tables\").show()"
   ]
  },
  {
   "cell_type": "code",
   "execution_count": 18,
   "metadata": {},
   "outputs": [
    {
     "data": {
      "text/html": [
       "<div>\n",
       "<style>\n",
       "    .dataframe thead tr:only-child th {\n",
       "        text-align: right;\n",
       "    }\n",
       "\n",
       "    .dataframe thead th {\n",
       "        text-align: left;\n",
       "    }\n",
       "\n",
       "    .dataframe tbody tr th {\n",
       "        vertical-align: top;\n",
       "    }\n",
       "</style>\n",
       "<table border=\"1\" class=\"dataframe\">\n",
       "  <thead>\n",
       "    <tr style=\"text-align: right;\">\n",
       "      <th></th>\n",
       "      <th>age_upon_outcome</th>\n",
       "      <th>animal_id_outcome</th>\n",
       "      <th>date_of_birth</th>\n",
       "      <th>outcome_subtype</th>\n",
       "      <th>outcome_type</th>\n",
       "      <th>sex_upon_outcome</th>\n",
       "      <th>age_upon_outcome_(days)</th>\n",
       "      <th>age_upon_outcome_(years)</th>\n",
       "      <th>age_upon_outcome_age_group</th>\n",
       "      <th>outcome_datetime</th>\n",
       "      <th>...</th>\n",
       "      <th>age_upon_intake</th>\n",
       "      <th>animal_id_intake</th>\n",
       "      <th>animal_type</th>\n",
       "      <th>breed</th>\n",
       "      <th>color</th>\n",
       "      <th>found_location</th>\n",
       "      <th>intake_condition</th>\n",
       "      <th>intake_type</th>\n",
       "      <th>sex_upon_intake</th>\n",
       "      <th>count</th>\n",
       "    </tr>\n",
       "  </thead>\n",
       "  <tbody>\n",
       "    <tr>\n",
       "      <th>0</th>\n",
       "      <td>1 month</td>\n",
       "      <td>A678753</td>\n",
       "      <td>2014-04-12</td>\n",
       "      <td>Partner</td>\n",
       "      <td>Transfer</td>\n",
       "      <td>Intact Female</td>\n",
       "      <td>30</td>\n",
       "      <td>0.082192</td>\n",
       "      <td>(-0.025, 2.5]</td>\n",
       "      <td>2014-05-30 16:59:00</td>\n",
       "      <td>...</td>\n",
       "      <td>4 weeks</td>\n",
       "      <td>A678753</td>\n",
       "      <td>Cat</td>\n",
       "      <td>Domestic Shorthair Mix</td>\n",
       "      <td>Black/White</td>\n",
       "      <td>4101 Smith School Road in Austin (TX)</td>\n",
       "      <td>Normal</td>\n",
       "      <td>Stray</td>\n",
       "      <td>Intact Female</td>\n",
       "      <td>1</td>\n",
       "    </tr>\n",
       "    <tr>\n",
       "      <th>1</th>\n",
       "      <td>1 month</td>\n",
       "      <td>A680216</td>\n",
       "      <td>2014-04-15</td>\n",
       "      <td>Partner</td>\n",
       "      <td>Transfer</td>\n",
       "      <td>Intact Male</td>\n",
       "      <td>30</td>\n",
       "      <td>0.082192</td>\n",
       "      <td>(-0.025, 2.5]</td>\n",
       "      <td>2014-05-31 11:30:00</td>\n",
       "      <td>...</td>\n",
       "      <td>1 month</td>\n",
       "      <td>A680216</td>\n",
       "      <td>Dog</td>\n",
       "      <td>German Shepherd Mix</td>\n",
       "      <td>Brown/Black</td>\n",
       "      <td>Del Valle (TX)</td>\n",
       "      <td>Normal</td>\n",
       "      <td>Owner Surrender</td>\n",
       "      <td>Intact Male</td>\n",
       "      <td>1</td>\n",
       "    </tr>\n",
       "    <tr>\n",
       "      <th>2</th>\n",
       "      <td>1 month</td>\n",
       "      <td>A684348</td>\n",
       "      <td>2014-05-31</td>\n",
       "      <td>Partner</td>\n",
       "      <td>Transfer</td>\n",
       "      <td>Intact Female</td>\n",
       "      <td>30</td>\n",
       "      <td>0.082192</td>\n",
       "      <td>(-0.025, 2.5]</td>\n",
       "      <td>2014-07-22 15:54:00</td>\n",
       "      <td>...</td>\n",
       "      <td>1 month</td>\n",
       "      <td>A684348</td>\n",
       "      <td>Cat</td>\n",
       "      <td>Domestic Shorthair Mix</td>\n",
       "      <td>Tortie</td>\n",
       "      <td>4501 Leslie Ave in Austin (TX)</td>\n",
       "      <td>Normal</td>\n",
       "      <td>Stray</td>\n",
       "      <td>Intact Female</td>\n",
       "      <td>1</td>\n",
       "    </tr>\n",
       "    <tr>\n",
       "      <th>3</th>\n",
       "      <td>1 month</td>\n",
       "      <td>A695315</td>\n",
       "      <td>2014-12-07</td>\n",
       "      <td>Foster</td>\n",
       "      <td>Adoption</td>\n",
       "      <td>Neutered Male</td>\n",
       "      <td>30</td>\n",
       "      <td>0.082192</td>\n",
       "      <td>(-0.025, 2.5]</td>\n",
       "      <td>2015-01-27 18:00:00</td>\n",
       "      <td>...</td>\n",
       "      <td>1 month</td>\n",
       "      <td>A695315</td>\n",
       "      <td>Dog</td>\n",
       "      <td>Pit Bull Mix</td>\n",
       "      <td>Brown Brindle</td>\n",
       "      <td>10511 Brownie Dr in Austin (TX)</td>\n",
       "      <td>Normal</td>\n",
       "      <td>Stray</td>\n",
       "      <td>Intact Male</td>\n",
       "      <td>1</td>\n",
       "    </tr>\n",
       "    <tr>\n",
       "      <th>4</th>\n",
       "      <td>1 month</td>\n",
       "      <td>A725965</td>\n",
       "      <td>2016-03-30</td>\n",
       "      <td>None</td>\n",
       "      <td>Adoption</td>\n",
       "      <td>Intact Female</td>\n",
       "      <td>30</td>\n",
       "      <td>0.082192</td>\n",
       "      <td>(-0.025, 2.5]</td>\n",
       "      <td>2016-05-22 12:29:00</td>\n",
       "      <td>...</td>\n",
       "      <td>5 weeks</td>\n",
       "      <td>A725965</td>\n",
       "      <td>Cat</td>\n",
       "      <td>Domestic Shorthair Mix</td>\n",
       "      <td>Blue/White</td>\n",
       "      <td>5800 Cherry Park in Austin (TX)</td>\n",
       "      <td>Normal</td>\n",
       "      <td>Stray</td>\n",
       "      <td>Intact Female</td>\n",
       "      <td>1</td>\n",
       "    </tr>\n",
       "  </tbody>\n",
       "</table>\n",
       "<p>5 rows × 29 columns</p>\n",
       "</div>"
      ],
      "text/plain": [
       "  age_upon_outcome animal_id_outcome date_of_birth outcome_subtype  \\\n",
       "0          1 month           A678753    2014-04-12         Partner   \n",
       "1          1 month           A680216    2014-04-15         Partner   \n",
       "2          1 month           A684348    2014-05-31         Partner   \n",
       "3          1 month           A695315    2014-12-07          Foster   \n",
       "4          1 month           A725965    2016-03-30            None   \n",
       "\n",
       "  outcome_type sex_upon_outcome  age_upon_outcome_(days)  \\\n",
       "0     Transfer    Intact Female                       30   \n",
       "1     Transfer      Intact Male                       30   \n",
       "2     Transfer    Intact Female                       30   \n",
       "3     Adoption    Neutered Male                       30   \n",
       "4     Adoption    Intact Female                       30   \n",
       "\n",
       "   age_upon_outcome_(years) age_upon_outcome_age_group    outcome_datetime  \\\n",
       "0                  0.082192              (-0.025, 2.5] 2014-05-30 16:59:00   \n",
       "1                  0.082192              (-0.025, 2.5] 2014-05-31 11:30:00   \n",
       "2                  0.082192              (-0.025, 2.5] 2014-07-22 15:54:00   \n",
       "3                  0.082192              (-0.025, 2.5] 2015-01-27 18:00:00   \n",
       "4                  0.082192              (-0.025, 2.5] 2016-05-22 12:29:00   \n",
       "\n",
       "   ...   age_upon_intake  animal_id_intake animal_type  \\\n",
       "0  ...           4 weeks           A678753         Cat   \n",
       "1  ...           1 month           A680216         Dog   \n",
       "2  ...           1 month           A684348         Cat   \n",
       "3  ...           1 month           A695315         Dog   \n",
       "4  ...           5 weeks           A725965         Cat   \n",
       "\n",
       "                    breed          color  \\\n",
       "0  Domestic Shorthair Mix    Black/White   \n",
       "1     German Shepherd Mix    Brown/Black   \n",
       "2  Domestic Shorthair Mix         Tortie   \n",
       "3            Pit Bull Mix  Brown Brindle   \n",
       "4  Domestic Shorthair Mix     Blue/White   \n",
       "\n",
       "                          found_location  intake_condition      intake_type  \\\n",
       "0  4101 Smith School Road in Austin (TX)            Normal            Stray   \n",
       "1                         Del Valle (TX)            Normal  Owner Surrender   \n",
       "2         4501 Leslie Ave in Austin (TX)            Normal            Stray   \n",
       "3        10511 Brownie Dr in Austin (TX)            Normal            Stray   \n",
       "4        5800 Cherry Park in Austin (TX)            Normal            Stray   \n",
       "\n",
       "  sex_upon_intake count  \n",
       "0   Intact Female     1  \n",
       "1     Intact Male     1  \n",
       "2   Intact Female     1  \n",
       "3     Intact Male     1  \n",
       "4   Intact Female     1  \n",
       "\n",
       "[5 rows x 29 columns]"
      ]
     },
     "execution_count": 18,
     "metadata": {},
     "output_type": "execute_result"
    }
   ],
   "source": [
    "Flume_Data.toPandas().head()"
   ]
  },
  {
   "cell_type": "code",
   "execution_count": 19,
   "metadata": {},
   "outputs": [
    {
     "data": {
      "text/html": [
       "<div>\n",
       "<style>\n",
       "    .dataframe thead tr:only-child th {\n",
       "        text-align: right;\n",
       "    }\n",
       "\n",
       "    .dataframe thead th {\n",
       "        text-align: left;\n",
       "    }\n",
       "\n",
       "    .dataframe tbody tr th {\n",
       "        vertical-align: top;\n",
       "    }\n",
       "</style>\n",
       "<table border=\"1\" class=\"dataframe\">\n",
       "  <thead>\n",
       "    <tr style=\"text-align: right;\">\n",
       "      <th></th>\n",
       "      <th>animal_id_outcome</th>\n",
       "      <th>age_upon_intake_days</th>\n",
       "      <th>age_upon_intake_years</th>\n",
       "      <th>age_upon_intake_age_group</th>\n",
       "      <th>intake_datetime</th>\n",
       "      <th>intake_month</th>\n",
       "      <th>intake_year</th>\n",
       "      <th>intake_monthyear</th>\n",
       "      <th>intake_weekday</th>\n",
       "      <th>intake_hour</th>\n",
       "      <th>intake_number</th>\n",
       "      <th>time_in_shelter</th>\n",
       "      <th>time_in_shelter_days</th>\n",
       "    </tr>\n",
       "  </thead>\n",
       "  <tbody>\n",
       "    <tr>\n",
       "      <th>0</th>\n",
       "      <td>A178569</td>\n",
       "      <td>5475</td>\n",
       "      <td>15.0</td>\n",
       "      <td>(12.5, 15.0]</td>\n",
       "      <td>2014-03-17 09:45:00</td>\n",
       "      <td>3</td>\n",
       "      <td>2014</td>\n",
       "      <td>2014-03</td>\n",
       "      <td>Monday</td>\n",
       "      <td>9</td>\n",
       "      <td>1.0</td>\n",
       "      <td>6 days 06:12:00.000000000</td>\n",
       "      <td>6.258333</td>\n",
       "    </tr>\n",
       "    <tr>\n",
       "      <th>1</th>\n",
       "      <td>A284639</td>\n",
       "      <td>4015</td>\n",
       "      <td>11.0</td>\n",
       "      <td>(10.0, 12.5]</td>\n",
       "      <td>2014-01-27 13:05:00</td>\n",
       "      <td>1</td>\n",
       "      <td>2014</td>\n",
       "      <td>2014-01</td>\n",
       "      <td>Monday</td>\n",
       "      <td>13</td>\n",
       "      <td>1.0</td>\n",
       "      <td>1 days 00:12:00.000000000</td>\n",
       "      <td>1.008333</td>\n",
       "    </tr>\n",
       "    <tr>\n",
       "      <th>2</th>\n",
       "      <td>A540495</td>\n",
       "      <td>1825</td>\n",
       "      <td>5.0</td>\n",
       "      <td>(2.5, 5.0]</td>\n",
       "      <td>2014-04-30 11:02:00</td>\n",
       "      <td>4</td>\n",
       "      <td>2014</td>\n",
       "      <td>2014-04</td>\n",
       "      <td>Wednesday</td>\n",
       "      <td>11</td>\n",
       "      <td>1.0</td>\n",
       "      <td>5 days 04:00:00.000000000</td>\n",
       "      <td>5.166667</td>\n",
       "    </tr>\n",
       "    <tr>\n",
       "      <th>3</th>\n",
       "      <td>A554674</td>\n",
       "      <td>4015</td>\n",
       "      <td>11.0</td>\n",
       "      <td>(10.0, 12.5]</td>\n",
       "      <td>2017-09-29 21:52:00</td>\n",
       "      <td>9</td>\n",
       "      <td>2017</td>\n",
       "      <td>2017-09</td>\n",
       "      <td>Friday</td>\n",
       "      <td>21</td>\n",
       "      <td>1.0</td>\n",
       "      <td>1 days 07:08:00.000000000</td>\n",
       "      <td>1.297222</td>\n",
       "    </tr>\n",
       "    <tr>\n",
       "      <th>4</th>\n",
       "      <td>A556644</td>\n",
       "      <td>2555</td>\n",
       "      <td>7.0</td>\n",
       "      <td>(5.0, 7.5]</td>\n",
       "      <td>2016-05-25 18:23:00</td>\n",
       "      <td>5</td>\n",
       "      <td>2016</td>\n",
       "      <td>2016-05</td>\n",
       "      <td>Wednesday</td>\n",
       "      <td>18</td>\n",
       "      <td>1.0</td>\n",
       "      <td>0 days 00:58:00.000000000</td>\n",
       "      <td>0.040278</td>\n",
       "    </tr>\n",
       "  </tbody>\n",
       "</table>\n",
       "</div>"
      ],
      "text/plain": [
       "  animal_id_outcome  age_upon_intake_days  age_upon_intake_years  \\\n",
       "0           A178569                  5475                   15.0   \n",
       "1           A284639                  4015                   11.0   \n",
       "2           A540495                  1825                    5.0   \n",
       "3           A554674                  4015                   11.0   \n",
       "4           A556644                  2555                    7.0   \n",
       "\n",
       "  age_upon_intake_age_group     intake_datetime  intake_month  intake_year  \\\n",
       "0              (12.5, 15.0] 2014-03-17 09:45:00             3         2014   \n",
       "1              (10.0, 12.5] 2014-01-27 13:05:00             1         2014   \n",
       "2                (2.5, 5.0] 2014-04-30 11:02:00             4         2014   \n",
       "3              (10.0, 12.5] 2017-09-29 21:52:00             9         2017   \n",
       "4                (5.0, 7.5] 2016-05-25 18:23:00             5         2016   \n",
       "\n",
       "  intake_monthyear intake_weekday  intake_hour  intake_number  \\\n",
       "0          2014-03         Monday            9            1.0   \n",
       "1          2014-01         Monday           13            1.0   \n",
       "2          2014-04      Wednesday           11            1.0   \n",
       "3          2017-09         Friday           21            1.0   \n",
       "4          2016-05      Wednesday           18            1.0   \n",
       "\n",
       "             time_in_shelter  time_in_shelter_days  \n",
       "0  6 days 06:12:00.000000000              6.258333  \n",
       "1  1 days 00:12:00.000000000              1.008333  \n",
       "2  5 days 04:00:00.000000000              5.166667  \n",
       "3  1 days 07:08:00.000000000              1.297222  \n",
       "4  0 days 00:58:00.000000000              0.040278  "
      ]
     },
     "execution_count": 19,
     "metadata": {},
     "output_type": "execute_result"
    }
   ],
   "source": [
    "Kafka_Data.toPandas().head()"
   ]
  },
  {
   "cell_type": "code",
   "execution_count": 20,
   "metadata": {},
   "outputs": [
    {
     "name": "stdout",
     "output_type": "stream",
     "text": [
      "+-------+---------+-------------------+\n",
      "|dept_no|dept_name|      last_modified|\n",
      "+-------+---------+-------------------+\n",
      "|1 month|  A745619|2017-01-21 00:00:00|\n",
      "|1 month|  A755211|2017-06-16 00:00:00|\n",
      "|1 month|  A763655|2017-10-21 00:00:00|\n",
      "+-------+---------+-------------------+\n",
      "only showing top 3 rows\n",
      "\n"
     ]
    }
   ],
   "source": [
    "spark.sql(\"select * from animaldata\").show(3)"
   ]
  },
  {
   "cell_type": "code",
   "execution_count": 21,
   "metadata": {},
   "outputs": [],
   "source": [
    "import pymysql.cursors"
   ]
  },
  {
   "cell_type": "code",
   "execution_count": 22,
   "metadata": {},
   "outputs": [],
   "source": [
    "connection = pymysql.connect(host='172.16.0.232',\n",
    "                             user='insofeadmin',\n",
    "                             password='insofe_password',\n",
    "                             db='insofe_animal59_PHD_DB',\n",
    "                             charset='utf8mb4',\n",
    "                             cursorclass=pymysql.cursors.DictCursor)\n",
    "\n",
    "try:\n",
    "    with connection.cursor() as cursor:\n",
    "\n",
    "\n",
    "        query = \"SELECT * FROM animalData\"\n",
    "        cursor.execute(query)\n",
    "        animalData = cursor.fetchall()\n",
    "finally:\n",
    "    connection.close()"
   ]
  },
  {
   "cell_type": "code",
   "execution_count": 23,
   "metadata": {},
   "outputs": [],
   "source": [
    "ValuesSchema2 = StructType([\n",
    "    StructField(\"age_upon_outcome\", StringType(), True),\n",
    "    StructField(\"animal_id_outcome\", StringType(), True),\n",
    "    StructField(\"date_of_birth\", TimestampType(), True),\n",
    "    StructField(\"outcome_subtype\", StringType(), True),\n",
    "    StructField(\"outcome_type\", StringType(), True),\n",
    "    StructField(\"sex_upon_outcome\", StringType(), True),\n",
    "    StructField(\"age_upon_outcome_(days)\", IntegerType(), True),\n",
    "    StructField(\"age_upon_outcome_(years)\", DoubleType(), True),\n",
    "    StructField(\"age_upon_outcome_age_group\", StringType(), True),\n",
    "    StructField(\"outcome_datetime\", TimestampType(), True),\n",
    "    StructField(\"outcome_month\", IntegerType(), True),\n",
    "    StructField(\"outcome_year\", IntegerType(), True),\n",
    "    StructField(\"outcome_monthyear\", StringType(), True),\n",
    "    StructField(\"outcome_weekday\", StringType(), True),\n",
    "    StructField(\"outcome_hour\", IntegerType(), True),\n",
    "    StructField(\"outcome_number\", DoubleType(), True),\n",
    "    StructField(\"dob_year\", IntegerType(), True),\n",
    "    StructField(\"dob_month\", IntegerType(), True),\n",
    "    StructField(\"dob_monthyear\", StringType(), True),\n",
    "    StructField(\"age_upon_intake\", StringType(), True),\n",
    "    StructField(\"animal_id_intake\", StringType(), True),\n",
    "    StructField(\"animal_type\", StringType(), True),\n",
    "    StructField(\"breed\", StringType(), True),\n",
    "    StructField(\"color\", StringType(), True),\n",
    "    StructField(\"found_location\", StringType(), True),\n",
    "    StructField(\"intake_condition\", StringType(), True),\n",
    "    StructField(\"intake_type\", StringType(), True),\n",
    "    StructField(\"sex_upon_intake\", StringType(), True),\n",
    "    StructField(\"count\", IntegerType(), True)\n",
    "])"
   ]
  },
  {
   "cell_type": "markdown",
   "metadata": {},
   "source": [
    "## Using spark load the data from animalData table in\n",
    "insofe_animal59_PHD_DB database to a spark dataframe with name\n",
    "data_mysql "
   ]
  },
  {
   "cell_type": "code",
   "execution_count": 24,
   "metadata": {},
   "outputs": [],
   "source": [
    "data_mysql = spark.createDataFrame(animalData, schema = ValuesSchema2)"
   ]
  },
  {
   "cell_type": "code",
   "execution_count": 25,
   "metadata": {},
   "outputs": [
    {
     "name": "stdout",
     "output_type": "stream",
     "text": [
      "+----------------+-----------------+-------------------+---------------+------------+----------------+-----------------------+------------------------+--------------------------+-------------------+-------------+------------+-----------------+---------------+------------+--------------+--------+---------+-------------+---------------+----------------+-----------+--------------------+--------------+--------------------+----------------+-----------+---------------+-----+\n",
      "|age_upon_outcome|animal_id_outcome|      date_of_birth|outcome_subtype|outcome_type|sex_upon_outcome|age_upon_outcome_(days)|age_upon_outcome_(years)|age_upon_outcome_age_group|   outcome_datetime|outcome_month|outcome_year|outcome_monthyear|outcome_weekday|outcome_hour|outcome_number|dob_year|dob_month|dob_monthyear|age_upon_intake|animal_id_intake|animal_type|               breed|         color|      found_location|intake_condition|intake_type|sex_upon_intake|count|\n",
      "+----------------+-----------------+-------------------+---------------+------------+----------------+-----------------------+------------------------+--------------------------+-------------------+-------------+------------+-----------------+---------------+------------+--------------+--------+---------+-------------+---------------+----------------+-----------+--------------------+--------------+--------------------+----------------+-----------+---------------+-----+\n",
      "|         1 month|          A745619|2017-01-21 00:00:00|        Partner|    Transfer|   Intact Female|                     30|      0.0821917808219178|             (-0.025, 2.5]|2017-03-23 16:08:00|            3|        2017|          2017-03|       Thursday|          16|           1.0|    2017|        1|      2017-03|        1 month|         A745619|        Dog| English Bulldog Mix|   Black/White|N Pleasant Valley...|          Normal|      Stray|  Intact Female|    1|\n",
      "|         1 month|          A755211|2017-06-16 00:00:00|        Partner|    Transfer|     Intact Male|                     30|      0.0821917808219178|             (-0.025, 2.5]|2017-08-03 11:43:00|            8|        2017|          2017-08|       Thursday|          11|           1.0|    2017|        6|      2017-08|        1 month|         A755211|        Cat|Domestic Shorthai...|  Orange Tabby|5510 South Ih 35 ...|          Normal|      Stray|    Intact Male|    1|\n",
      "|         1 month|          A763655|2017-10-21 00:00:00|           null|    Adoption|   Neutered Male|                     30|      0.0821917808219178|             (-0.025, 2.5]|2017-12-17 18:24:00|           12|        2017|          2017-12|         Sunday|          18|           1.0|    2017|       10|      2017-12|        1 month|         A763655|        Dog|Australian Shephe...|Black/Tricolor|East Ben White An...|          Normal|      Stray|    Intact Male|    1|\n",
      "+----------------+-----------------+-------------------+---------------+------------+----------------+-----------------------+------------------------+--------------------------+-------------------+-------------+------------+-----------------+---------------+------------+--------------+--------+---------+-------------+---------------+----------------+-----------+--------------------+--------------+--------------------+----------------+-----------+---------------+-----+\n",
      "only showing top 3 rows\n",
      "\n"
     ]
    }
   ],
   "source": [
    "data_mysql.show(3)"
   ]
  },
  {
   "cell_type": "markdown",
   "metadata": {},
   "source": [
    "##  Merge (rowbind) the dataframes loaded from flume (data_flume) ingestion\n",
    "and mysql (data_mysql) data frame.\n",
    " "
   ]
  },
  {
   "cell_type": "code",
   "execution_count": 26,
   "metadata": {},
   "outputs": [],
   "source": [
    "combined_data = data_mysql.union(Flume_Data)"
   ]
  },
  {
   "cell_type": "code",
   "execution_count": 27,
   "metadata": {},
   "outputs": [
    {
     "data": {
      "text/plain": [
       "71961"
      ]
     },
     "execution_count": 27,
     "metadata": {},
     "output_type": "execute_result"
    }
   ],
   "source": [
    "combined_data.count()"
   ]
  },
  {
   "cell_type": "code",
   "execution_count": 28,
   "metadata": {},
   "outputs": [
    {
     "data": {
      "text/plain": [
       "['animal_id_outcome']"
      ]
     },
     "execution_count": 28,
     "metadata": {},
     "output_type": "execute_result"
    }
   ],
   "source": [
    "DF_value_cols = Kafka_Data.columns\n",
    "DF_label_cols = combined_data.columns\n",
    "\n",
    "[item for i, item in enumerate(DF_value_cols) if item in DF_label_cols]\n"
   ]
  },
  {
   "cell_type": "markdown",
   "metadata": {},
   "source": [
    "## Join the resultant spark dataframe in above step with the dataframe which has\n",
    "data from the kafka on column “animal_id_outcome”. This is the final data\n",
    "set.\n"
   ]
  },
  {
   "cell_type": "code",
   "execution_count": 29,
   "metadata": {},
   "outputs": [],
   "source": [
    "final_Data = combined_data.join(Kafka_Data,on = 'animal_id_outcome' ,how=\"inner\")"
   ]
  },
  {
   "cell_type": "markdown",
   "metadata": {},
   "source": [
    "## Check the number of rows and columns in the final data set. Check the data\n",
    "types of the columns with the Data Description "
   ]
  },
  {
   "cell_type": "code",
   "execution_count": 30,
   "metadata": {},
   "outputs": [
    {
     "data": {
      "text/plain": [
       "71961"
      ]
     },
     "execution_count": 30,
     "metadata": {},
     "output_type": "execute_result"
    }
   ],
   "source": [
    "final_Data.count()"
   ]
  },
  {
   "cell_type": "code",
   "execution_count": 31,
   "metadata": {},
   "outputs": [
    {
     "name": "stdout",
     "output_type": "stream",
     "text": [
      "('row counts :', 71961)\n"
     ]
    }
   ],
   "source": [
    "print('row counts :', final_Data.count())\n"
   ]
  },
  {
   "cell_type": "code",
   "execution_count": 35,
   "metadata": {},
   "outputs": [
    {
     "data": {
      "text/plain": [
       "41"
      ]
     },
     "execution_count": 35,
     "metadata": {},
     "output_type": "execute_result"
    }
   ],
   "source": [
    "len(final_Data.columns)"
   ]
  },
  {
   "cell_type": "markdown",
   "metadata": {},
   "source": [
    "## Print the top 5 rows from the final data set."
   ]
  },
  {
   "cell_type": "code",
   "execution_count": 33,
   "metadata": {},
   "outputs": [
    {
     "name": "stdout",
     "output_type": "stream",
     "text": [
      "+-----------------+----------------+-------------------+---------------+------------+----------------+-----------------------+------------------------+--------------------------+-------------------+-------------+------------+-----------------+---------------+------------+--------------+--------+---------+-------------+---------------+----------------+-----------+--------------------+--------------+--------------------+----------------+-----------+---------------+-----+--------------------+---------------------+-------------------------+-------------------+------------+-----------+----------------+--------------+-----------+-------------+--------------------+--------------------+\n",
      "|animal_id_outcome|age_upon_outcome|      date_of_birth|outcome_subtype|outcome_type|sex_upon_outcome|age_upon_outcome_(days)|age_upon_outcome_(years)|age_upon_outcome_age_group|   outcome_datetime|outcome_month|outcome_year|outcome_monthyear|outcome_weekday|outcome_hour|outcome_number|dob_year|dob_month|dob_monthyear|age_upon_intake|animal_id_intake|animal_type|               breed|         color|      found_location|intake_condition|intake_type|sex_upon_intake|count|age_upon_intake_days|age_upon_intake_years|age_upon_intake_age_group|    intake_datetime|intake_month|intake_year|intake_monthyear|intake_weekday|intake_hour|intake_number|     time_in_shelter|time_in_shelter_days|\n",
      "+-----------------+----------------+-------------------+---------------+------------+----------------+-----------------------+------------------------+--------------------------+-------------------+-------------+------------+-----------------+---------------+------------+--------------+--------+---------+-------------+---------------+----------------+-----------+--------------------+--------------+--------------------+----------------+-----------+---------------+-----+--------------------+---------------------+-------------------------+-------------------+------------+-----------+----------------+--------------+-----------+-------------+--------------------+--------------------+\n",
      "|          A745619|         1 month|2017-01-21 00:00:00|        Partner|    Transfer|   Intact Female|                     30|      0.0821917808219178|             (-0.025, 2.5]|2017-03-23 16:08:00|            3|        2017|          2017-03|       Thursday|          16|           1.0|    2017|        1|      2017-03|        1 month|         A745619|        Dog| English Bulldog Mix|   Black/White|N Pleasant Valley...|          Normal|      Stray|  Intact Female|    1|                  30|   0.0821917808219178|            (-0.025, 2.5]|2017-03-21 11:50:00|           3|       2017|         2017-03|       Tuesday|         11|          1.0|2 days 04:18:00.0...|  2.1791666666666667|\n",
      "|          A755211|         1 month|2017-06-16 00:00:00|        Partner|    Transfer|     Intact Male|                     30|      0.0821917808219178|             (-0.025, 2.5]|2017-08-03 11:43:00|            8|        2017|          2017-08|       Thursday|          11|           1.0|    2017|        6|      2017-08|        1 month|         A755211|        Cat|Domestic Shorthai...|  Orange Tabby|5510 South Ih 35 ...|          Normal|      Stray|    Intact Male|    1|                  30|   0.0821917808219178|            (-0.025, 2.5]|2017-07-31 11:56:00|           7|       2017|         2017-07|        Monday|         11|          1.0|2 days 23:47:00.0...|  2.9909722222222226|\n",
      "|          A763655|         1 month|2017-10-21 00:00:00|           null|    Adoption|   Neutered Male|                     30|      0.0821917808219178|             (-0.025, 2.5]|2017-12-17 18:24:00|           12|        2017|          2017-12|         Sunday|          18|           1.0|    2017|       10|      2017-12|        1 month|         A763655|        Dog|Australian Shephe...|Black/Tricolor|East Ben White An...|          Normal|      Stray|    Intact Male|    1|                  30|   0.0821917808219178|            (-0.025, 2.5]|2017-12-12 19:24:00|          12|       2017|         2017-12|       Tuesday|         19|          1.0|4 days 23:00:00.0...|   4.958333333333333|\n",
      "|          A668062|           1 day|2013-11-26 00:00:00|    Rabies Risk|  Euthanasia|         Unknown|                      1|    0.002739726027397...|             (-0.025, 2.5]|2013-11-27 09:14:00|           11|        2013|          2013-11|      Wednesday|           9|           1.0|    2013|       11|      2013-11|        0 years|         A668062|      Other|             Bat Mix|   Brown/Brown|West Ave in Austi...|          Normal|   Wildlife|        Unknown|    1|                   0|                  0.0|            (-0.025, 2.5]|2013-11-26 20:06:00|          11|       2013|         2013-11|       Tuesday|         20|          1.0|0 days 13:08:00.0...|  0.5472222222222223|\n",
      "|          A665277|         1 month|2013-08-24 00:00:00|           null|    Adoption|   Spayed Female|                     30|      0.0821917808219178|             (-0.025, 2.5]|2013-10-19 17:37:00|           10|        2013|          2013-10|       Saturday|          17|           1.0|    2013|        8|      2013-10|        1 month|         A665277|        Dog|     Rat Terrier Mix|      Tricolor|Finsburys Dr/Lynn...|          Normal|      Stray|  Intact Female|    1|                  30|   0.0821917808219178|            (-0.025, 2.5]|2013-10-15 18:42:00|          10|       2013|         2013-10|       Tuesday|         18|          1.0|3 days 22:55:00.0...|   3.954861111111111|\n",
      "+-----------------+----------------+-------------------+---------------+------------+----------------+-----------------------+------------------------+--------------------------+-------------------+-------------+------------+-----------------+---------------+------------+--------------+--------+---------+-------------+---------------+----------------+-----------+--------------------+--------------+--------------------+----------------+-----------+---------------+-----+--------------------+---------------------+-------------------------+-------------------+------------+-----------+----------------+--------------+-----------+-------------+--------------------+--------------------+\n",
      "only showing top 5 rows\n",
      "\n"
     ]
    }
   ],
   "source": [
    "final_Data.show(5)"
   ]
  },
  {
   "cell_type": "markdown",
   "metadata": {},
   "source": [
    "## Calculate Average age of animal when it comes out of shelter (ColumnName:\n",
    "age_upon_outcome_(years)).\n"
   ]
  },
  {
   "cell_type": "code",
   "execution_count": 36,
   "metadata": {},
   "outputs": [
    {
     "name": "stdout",
     "output_type": "stream",
     "text": [
      "+-----------------------------+\n",
      "|avg(age_upon_outcome_(years))|\n",
      "+-----------------------------+\n",
      "|           2.1071279286935076|\n",
      "+-----------------------------+\n",
      "\n"
     ]
    }
   ],
   "source": [
    "final_Data.agg({'age_upon_outcome_(years)': 'mean'}).show()"
   ]
  },
  {
   "cell_type": "markdown",
   "metadata": {},
   "source": [
    "## GET THE TOP 10 AGES_UPON_OUTCOME_(days) OF ANIMALS "
   ]
  },
  {
   "cell_type": "code",
   "execution_count": 37,
   "metadata": {},
   "outputs": [
    {
     "name": "stdout",
     "output_type": "stream",
     "text": [
      "+-----------------+----------------+-------------------+---------------+---------------+----------------+-----------------------+------------------------+--------------------------+-------------------+-------------+------------+-----------------+---------------+------------+--------------+--------+---------+-------------+---------------+----------------+-----------+--------------------+-----------------+--------------------+----------------+---------------+---------------+-----+--------------------+---------------------+-------------------------+-------------------+------------+-----------+----------------+--------------+-----------+-------------+--------------------+--------------------+\n",
      "|animal_id_outcome|age_upon_outcome|      date_of_birth|outcome_subtype|   outcome_type|sex_upon_outcome|age_upon_outcome_(days)|age_upon_outcome_(years)|age_upon_outcome_age_group|   outcome_datetime|outcome_month|outcome_year|outcome_monthyear|outcome_weekday|outcome_hour|outcome_number|dob_year|dob_month|dob_monthyear|age_upon_intake|animal_id_intake|animal_type|               breed|            color|      found_location|intake_condition|    intake_type|sex_upon_intake|count|age_upon_intake_days|age_upon_intake_years|age_upon_intake_age_group|    intake_datetime|intake_month|intake_year|intake_monthyear|intake_weekday|intake_hour|intake_number|     time_in_shelter|time_in_shelter_days|\n",
      "+-----------------+----------------+-------------------+---------------+---------------+----------------+-----------------------+------------------------+--------------------------+-------------------+-------------+------------+-----------------+---------------+------------+--------------+--------+---------+-------------+---------------+----------------+-----------+--------------------+-----------------+--------------------+----------------+---------------+---------------+-----+--------------------+---------------------+-------------------------+-------------------+------------+-----------+----------------+--------------+-----------+-------------+--------------------+--------------------+\n",
      "|          A740127|        25 years|1991-12-11 00:00:00|        Partner|       Transfer|   Intact Female|                   9125|                    25.0|              (22.5, 25.0]|2016-12-16 00:00:00|           12|        2016|          2016-12|         Friday|           0|           1.0|    1991|       12|      2016-12|       25 years|         A740127|       Bird|            Cockatoo|     White/Orange|7709 Whitsun Dr i...|          Normal|  Public Assist|  Intact Female|    1|                9125|                 25.0|             (22.5, 25.0]|2016-12-11 14:55:00|          12|       2016|         2016-12|        Sunday|         14|          1.0|4 days 09:05:00.0...|   4.378472222222222|\n",
      "|          A744732|        22 years|1995-03-06 00:00:00|      Suffering|     Euthanasia|   Spayed Female|                   8030|                    22.0|              (20.0, 22.5]|2017-03-06 17:09:00|            3|        2017|          2017-03|         Monday|          17|           1.0|    1995|        3|      2017-03|       22 years|         A744732|        Cat|Domestic Shorthai...|            Black|         Austin (TX)|          Normal|Owner Surrender|  Spayed Female|    1|                8030|                 22.0|             (20.0, 22.5]|2017-03-06 16:31:00|           3|       2017|         2017-03|        Monday|         16|          1.0|0 days 00:38:00.0...| 0.02638888888888889|\n",
      "|          A682010|        22 years|1992-06-25 00:00:00|           null|Return to Owner|   Neutered Male|                   8030|                    22.0|              (20.0, 22.5]|2014-06-25 13:26:00|            6|        2014|          2014-06|      Wednesday|          13|           1.0|    1992|        6|      2014-06|       22 years|         A682010|        Cat|Domestic Shorthai...|       Seal Point|4434 Frontier Trl...|            Sick|          Stray|  Neutered Male|    1|                8030|                 22.0|             (20.0, 22.5]|2014-06-23 07:41:00|           6|       2014|         2014-06|        Monday|          7|          1.0|2 days 05:45:00.0...|  2.2395833333333335|\n",
      "|          A712996|        22 years|1993-10-03 00:00:00|           null|Return to Owner|         Unknown|                   8030|                    22.0|              (20.0, 22.5]|2015-10-01 13:46:00|           10|        2015|          2015-10|       Thursday|          13|           1.0|    1993|       10|      2015-10|       22 years|         A712996|        Cat|         Siamese Mix|      Lilac Point|Hibbs Ln in Manor...|            Aged|          Stray|        Unknown|    1|                8030|                 22.0|             (20.0, 22.5]|2015-10-01 12:39:00|          10|       2015|         2015-10|      Thursday|         12|          1.0|0 days 01:07:00.0...|0.046527777777777786|\n",
      "|          A723385|        22 years|1994-04-03 00:00:00|           null|Return to Owner|   Spayed Female|                   8030|                    22.0|              (20.0, 22.5]|2016-04-03 15:48:00|            4|        2016|          2016-04|         Sunday|          15|           1.0|    1994|        4|      2016-04|       22 years|         A723385|        Cat|Domestic Shorthai...|           Tortie|Carolyn Ave And L...|          Normal|          Stray|  Spayed Female|    1|                8030|                 22.0|             (20.0, 22.5]|2016-03-31 11:01:00|           3|       2016|         2016-03|      Thursday|         11|          1.0|3 days 04:47:00.0...|  3.1993055555555556|\n",
      "|          A528040|        20 years|1997-11-11 00:00:00|           null|Return to Owner|   Spayed Female|                   7300|                    20.0|              (17.5, 20.0]|2018-02-11 13:28:00|            2|        2018|          2018-02|         Sunday|          13|           1.0|    1997|       11|      2018-02|       20 years|         A528040|        Dog|Miniature Schnauz...|       Gray/Black|Joy Lane in Austi...|         Injured|          Stray|  Spayed Female|    1|                7300|                 20.0|             (17.5, 20.0]|2018-02-11 08:06:00|           2|       2018|         2018-02|        Sunday|          8|          1.0|0 days 05:22:00.0...| 0.22361111111111112|\n",
      "|          A738347|        20 years|1996-11-14 00:00:00|           null|Return to Owner|   Spayed Female|                   7300|                    20.0|              (17.5, 20.0]|2016-11-14 11:41:00|           11|        2016|          2016-11|         Monday|          11|           1.0|    1996|       11|      2016-11|       20 years|         A738347|        Dog|         Maltese Mix|            White|10403 Pickfair Dr...|          Normal|          Stray|  Spayed Female|    1|                7300|                 20.0|             (17.5, 20.0]|2016-11-13 13:38:00|          11|       2016|         2016-11|        Sunday|         13|          1.0|0 days 22:03:00.0...|             0.91875|\n",
      "|          A693678|        20 years|1994-12-12 00:00:00|           null|Return to Owner|   Intact Female|                   7300|                    20.0|              (17.5, 20.0]|2014-12-13 16:38:00|           12|        2014|          2014-12|       Saturday|          16|           1.0|    1994|       12|      2014-12|       20 years|         A693678|        Cat|Domestic Shorthai...|Brown Tabby/White|2016 Sorghum Hill...|          Normal|          Stray|  Intact Female|    1|                7300|                 20.0|             (17.5, 20.0]|2014-12-12 18:00:00|          12|       2014|         2014-12|        Friday|         18|          1.0|0 days 22:38:00.0...|  0.9430555555555555|\n",
      "|          A751677|        20 years|1997-06-11 00:00:00|      Suffering|     Euthanasia|         Unknown|                   7300|                    20.0|              (17.5, 20.0]|2017-06-12 11:04:00|            6|        2017|          2017-06|         Monday|          11|           1.0|    1997|        6|      2017-06|       20 years|         A751677|        Cat|Domestic Shorthai...|       Blue/White|         Austin (TX)|         Injured|Owner Surrender|        Unknown|    1|                7300|                 20.0|             (17.5, 20.0]|2017-06-11 11:16:00|           6|       2017|         2017-06|        Sunday|         11|          1.0|0 days 23:48:00.0...|  0.9916666666666667|\n",
      "|          A692485|        20 years|1994-11-21 00:00:00|      Suffering|     Euthanasia|   Intact Female|                   7300|                    20.0|              (17.5, 20.0]|2014-11-25 16:04:00|           11|        2014|          2014-11|        Tuesday|          16|           1.0|    1994|       11|      2014-11|       20 years|         A692485|        Cat|Domestic Shorthai...|Brown Tabby/White|W 45Th St & N Lam...|          Normal|          Stray|  Intact Female|    1|                7300|                 20.0|             (17.5, 20.0]|2014-11-21 12:30:00|          11|       2014|         2014-11|        Friday|         12|          1.0|4 days 03:34:00.0...|   4.148611111111111|\n",
      "+-----------------+----------------+-------------------+---------------+---------------+----------------+-----------------------+------------------------+--------------------------+-------------------+-------------+------------+-----------------+---------------+------------+--------------+--------+---------+-------------+---------------+----------------+-----------+--------------------+-----------------+--------------------+----------------+---------------+---------------+-----+--------------------+---------------------+-------------------------+-------------------+------------+-----------+----------------+--------------+-----------+-------------+--------------------+--------------------+\n",
      "only showing top 10 rows\n",
      "\n"
     ]
    }
   ],
   "source": [
    "final_Data.sort(desc('age_upon_outcome_(years)')).show(10)"
   ]
  },
  {
   "cell_type": "markdown",
   "metadata": {},
   "source": [
    "## Print THE DIFFERENT TYPES OF outcome_type"
   ]
  },
  {
   "cell_type": "code",
   "execution_count": 38,
   "metadata": {},
   "outputs": [
    {
     "name": "stdout",
     "output_type": "stream",
     "text": [
      "+---------------+\n",
      "|   outcome_type|\n",
      "+---------------+\n",
      "|Return to Owner|\n",
      "|     Euthanasia|\n",
      "|           null|\n",
      "|      Rto-Adopt|\n",
      "|       Transfer|\n",
      "|       Disposal|\n",
      "|       Relocate|\n",
      "|       Adoption|\n",
      "|        Missing|\n",
      "|           Died|\n",
      "+---------------+\n",
      "\n"
     ]
    }
   ],
   "source": [
    "final_Data.select('outcome_type').distinct().show()"
   ]
  },
  {
   "cell_type": "markdown",
   "metadata": {},
   "source": [
    "## Get the count of different types of outcome_type"
   ]
  },
  {
   "cell_type": "code",
   "execution_count": 39,
   "metadata": {},
   "outputs": [
    {
     "data": {
      "text/plain": [
       "10"
      ]
     },
     "execution_count": 39,
     "metadata": {},
     "output_type": "execute_result"
    }
   ],
   "source": [
    "final_Data.select('outcome_type').distinct().count()"
   ]
  },
  {
   "cell_type": "markdown",
   "metadata": {},
   "source": [
    "## Which year has seen more number of animal outcomes"
   ]
  },
  {
   "cell_type": "code",
   "execution_count": 40,
   "metadata": {},
   "outputs": [
    {
     "name": "stdout",
     "output_type": "stream",
     "text": [
      "+------------+-----+\n",
      "|outcome_year|count|\n",
      "+------------+-----+\n",
      "|        2014|16700|\n",
      "+------------+-----+\n",
      "only showing top 1 row\n",
      "\n"
     ]
    }
   ],
   "source": [
    "final_Data.groupby('outcome_year').count().sort(desc('count')).show(1)"
   ]
  },
  {
   "cell_type": "markdown",
   "metadata": {},
   "source": [
    "## Which year has seen more number of animal intakes"
   ]
  },
  {
   "cell_type": "code",
   "execution_count": 41,
   "metadata": {},
   "outputs": [
    {
     "name": "stdout",
     "output_type": "stream",
     "text": [
      "+-----------+-----+\n",
      "|intake_year|count|\n",
      "+-----------+-----+\n",
      "|       2014|16754|\n",
      "+-----------+-----+\n",
      "only showing top 1 row\n",
      "\n"
     ]
    }
   ],
   "source": [
    "final_Data.groupby('intake_year').count().sort(desc('count')).show(1)"
   ]
  },
  {
   "cell_type": "markdown",
   "metadata": {},
   "source": [
    "## Check if there are null values in any of the columns"
   ]
  },
  {
   "cell_type": "code",
   "execution_count": 43,
   "metadata": {},
   "outputs": [
    {
     "name": "stdout",
     "output_type": "stream",
     "text": [
      "+-----------------+----------------+-------------+---------------+------------+----------------+-----------------------+------------------------+--------------------------+----------------+-------------+------------+-----------------+---------------+------------+--------------+--------+---------+-------------+---------------+----------------+-----------+-----+-----+--------------+----------------+-----------+---------------+-----+--------------------+---------------------+-------------------------+---------------+------------+-----------+----------------+--------------+-----------+-------------+---------------+--------------------+\n",
      "|animal_id_outcome|age_upon_outcome|date_of_birth|outcome_subtype|outcome_type|sex_upon_outcome|age_upon_outcome_(days)|age_upon_outcome_(years)|age_upon_outcome_age_group|outcome_datetime|outcome_month|outcome_year|outcome_monthyear|outcome_weekday|outcome_hour|outcome_number|dob_year|dob_month|dob_monthyear|age_upon_intake|animal_id_intake|animal_type|breed|color|found_location|intake_condition|intake_type|sex_upon_intake|count|age_upon_intake_days|age_upon_intake_years|age_upon_intake_age_group|intake_datetime|intake_month|intake_year|intake_monthyear|intake_weekday|intake_hour|intake_number|time_in_shelter|time_in_shelter_days|\n",
      "+-----------------+----------------+-------------+---------------+------------+----------------+-----------------------+------------------------+--------------------------+----------------+-------------+------------+-----------------+---------------+------------+--------------+--------+---------+-------------+---------------+----------------+-----------+-----+-----+--------------+----------------+-----------+---------------+-----+--------------------+---------------------+-------------------------+---------------+------------+-----------+----------------+--------------+-----------+-------------+---------------+--------------------+\n",
      "|                0|               0|            0|          36505|           6|               0|                      0|                       0|                         0|               0|            0|           0|                0|              0|           0|             0|       0|        0|            0|              0|               0|          0|    0|    0|             0|               0|          0|              1|    0|                   0|                    0|                        0|              0|           0|          0|               0|             0|          0|            0|              0|                   0|\n",
      "+-----------------+----------------+-------------+---------------+------------+----------------+-----------------------+------------------------+--------------------------+----------------+-------------+------------+-----------------+---------------+------------+--------------+--------+---------+-------------+---------------+----------------+-----------+-----+-----+--------------+----------------+-----------+---------------+-----+--------------------+---------------------+-------------------------+---------------+------------+-----------+----------------+--------------+-----------+-------------+---------------+--------------------+\n",
      "\n"
     ]
    }
   ],
   "source": [
    "final_Data.select([count(when(col(c).isNull(), c)).alias(c) for c in final_Data.columns]).show()"
   ]
  },
  {
   "cell_type": "markdown",
   "metadata": {},
   "source": [
    "## How many animals are in shelter for more than a year"
   ]
  },
  {
   "cell_type": "code",
   "execution_count": 44,
   "metadata": {},
   "outputs": [
    {
     "data": {
      "text/plain": [
       "162"
      ]
     },
     "execution_count": 44,
     "metadata": {},
     "output_type": "execute_result"
    }
   ],
   "source": [
    "final_Data.where(\"time_in_shelter_days > 365\").count()"
   ]
  },
  {
   "cell_type": "markdown",
   "metadata": {},
   "source": [
    "## Which type of animals are most visited to animal_shelter\n"
   ]
  },
  {
   "cell_type": "code",
   "execution_count": 46,
   "metadata": {},
   "outputs": [
    {
     "name": "stdout",
     "output_type": "stream",
     "text": [
      "+-----------+-----+\n",
      "|animal_type|count|\n",
      "+-----------+-----+\n",
      "|       Bird|  339|\n",
      "|        Cat|28303|\n",
      "|      Other| 4410|\n",
      "|        Dog|38909|\n",
      "+-----------+-----+\n",
      "\n"
     ]
    }
   ],
   "source": [
    "final_Data.groupby('animal_type').count().show()"
   ]
  },
  {
   "cell_type": "markdown",
   "metadata": {},
   "source": [
    "## find out how many wild life animals are taken in to shelter till now "
   ]
  },
  {
   "cell_type": "code",
   "execution_count": 47,
   "metadata": {},
   "outputs": [
    {
     "data": {
      "text/plain": [
       "3457"
      ]
     },
     "execution_count": 47,
     "metadata": {},
     "output_type": "execute_result"
    }
   ],
   "source": [
    "final_Data[final_Data[\"intake_type\"]== \"Wildlife\"].count()"
   ]
  },
  {
   "cell_type": "markdown",
   "metadata": {},
   "source": [
    "## Which year the stray type animals intake is high (Hint: use\n",
    "“intake_type\",\"intake_year” columns)\n"
   ]
  },
  {
   "cell_type": "code",
   "execution_count": 48,
   "metadata": {},
   "outputs": [
    {
     "data": {
      "text/html": [
       "<div>\n",
       "<style>\n",
       "    .dataframe thead tr:only-child th {\n",
       "        text-align: right;\n",
       "    }\n",
       "\n",
       "    .dataframe thead th {\n",
       "        text-align: left;\n",
       "    }\n",
       "\n",
       "    .dataframe tbody tr th {\n",
       "        vertical-align: top;\n",
       "    }\n",
       "</style>\n",
       "<table border=\"1\" class=\"dataframe\">\n",
       "  <thead>\n",
       "    <tr style=\"text-align: right;\">\n",
       "      <th></th>\n",
       "      <th>intake_year</th>\n",
       "      <th>count</th>\n",
       "    </tr>\n",
       "  </thead>\n",
       "  <tbody>\n",
       "    <tr>\n",
       "      <th>0</th>\n",
       "      <td>2018</td>\n",
       "      <td>1865</td>\n",
       "    </tr>\n",
       "    <tr>\n",
       "      <th>1</th>\n",
       "      <td>2015</td>\n",
       "      <td>12278</td>\n",
       "    </tr>\n",
       "    <tr>\n",
       "      <th>2</th>\n",
       "      <td>2013</td>\n",
       "      <td>2567</td>\n",
       "    </tr>\n",
       "    <tr>\n",
       "      <th>3</th>\n",
       "      <td>2014</td>\n",
       "      <td>11776</td>\n",
       "    </tr>\n",
       "    <tr>\n",
       "      <th>4</th>\n",
       "      <td>2016</td>\n",
       "      <td>11038</td>\n",
       "    </tr>\n",
       "    <tr>\n",
       "      <th>5</th>\n",
       "      <td>2017</td>\n",
       "      <td>10990</td>\n",
       "    </tr>\n",
       "  </tbody>\n",
       "</table>\n",
       "</div>"
      ],
      "text/plain": [
       "   intake_year  count\n",
       "0         2018   1865\n",
       "1         2015  12278\n",
       "2         2013   2567\n",
       "3         2014  11776\n",
       "4         2016  11038\n",
       "5         2017  10990"
      ]
     },
     "execution_count": 48,
     "metadata": {},
     "output_type": "execute_result"
    }
   ],
   "source": [
    "final_Data[final_Data[\"intake_type\"]== \"Stray\"].groupby(\"intake_year\").count().toPandas()"
   ]
  },
  {
   "cell_type": "markdown",
   "metadata": {},
   "source": [
    "## Which month in which year has got the highest number of intakes"
   ]
  },
  {
   "cell_type": "code",
   "execution_count": 49,
   "metadata": {},
   "outputs": [
    {
     "name": "stdout",
     "output_type": "stream",
     "text": [
      "+----------------+-----+\n",
      "|intake_monthyear|count|\n",
      "+----------------+-----+\n",
      "|         2015-06| 1996|\n",
      "+----------------+-----+\n",
      "only showing top 1 row\n",
      "\n"
     ]
    }
   ],
   "source": [
    "final_Data.groupBy('intake_monthyear').count().orderBy('count', ascending=False).show(1)"
   ]
  },
  {
   "cell_type": "markdown",
   "metadata": {},
   "source": [
    "## Take 30% of the data using sample function. (Hint: use fraction=0.30)"
   ]
  },
  {
   "cell_type": "code",
   "execution_count": 63,
   "metadata": {},
   "outputs": [
    {
     "data": {
      "text/plain": [
       "21545"
      ]
     },
     "execution_count": 63,
     "metadata": {},
     "output_type": "execute_result"
    }
   ],
   "source": [
    "sample_df = final_Data.sample(fraction=0.30, seed=4646)\n",
    "sample_df.count()"
   ]
  },
  {
   "cell_type": "markdown",
   "metadata": {},
   "source": [
    "## Remove the Rows whose sex_upon_intake is \"UNKNOWN\". "
   ]
  },
  {
   "cell_type": "code",
   "execution_count": 64,
   "metadata": {},
   "outputs": [
    {
     "data": {
      "text/plain": [
       "21545"
      ]
     },
     "execution_count": 64,
     "metadata": {},
     "output_type": "execute_result"
    }
   ],
   "source": [
    "data_after_remove = sample_df.filter(\"sex_upon_intake != 'UNKNOWN'\")\n",
    "data_after_remove.count()"
   ]
  },
  {
   "cell_type": "markdown",
   "metadata": {},
   "source": [
    "## Select the columns other than "
   ]
  },
  {
   "cell_type": "code",
   "execution_count": 65,
   "metadata": {},
   "outputs": [],
   "source": [
    "drop_cols = ['age_upon_outcome','date_of_birth','age_upon_outcome_(days)','outcome_datetime',\n",
    "             'outcome_month','outcome_year','outcome_monthyear','dob_year','dob_month','dob_monthyear',\n",
    "             'animal_id_intake','count','age_upon_intake_days','intake_datetime','intake_monthyear','intake_hour']\n",
    "sample_drop_cols = data_after_remove.drop(*drop_cols)"
   ]
  },
  {
   "cell_type": "code",
   "execution_count": 67,
   "metadata": {},
   "outputs": [
    {
     "data": {
      "text/plain": [
       "['animal_id_outcome',\n",
       " 'outcome_subtype',\n",
       " 'outcome_type',\n",
       " 'sex_upon_outcome',\n",
       " 'age_upon_outcome_(years)',\n",
       " 'age_upon_outcome_age_group',\n",
       " 'outcome_weekday',\n",
       " 'outcome_hour',\n",
       " 'outcome_number',\n",
       " 'age_upon_intake',\n",
       " 'animal_type',\n",
       " 'breed',\n",
       " 'color',\n",
       " 'found_location',\n",
       " 'intake_condition',\n",
       " 'intake_type',\n",
       " 'sex_upon_intake',\n",
       " 'age_upon_intake_years',\n",
       " 'age_upon_intake_age_group',\n",
       " 'intake_month',\n",
       " 'intake_year',\n",
       " 'intake_weekday',\n",
       " 'intake_number',\n",
       " 'time_in_shelter',\n",
       " 'time_in_shelter_days']"
      ]
     },
     "execution_count": 67,
     "metadata": {},
     "output_type": "execute_result"
    }
   ],
   "source": [
    "sample_drop_cols.columns"
   ]
  },
  {
   "cell_type": "code",
   "execution_count": 68,
   "metadata": {},
   "outputs": [],
   "source": [
    "sample_drop_cols_2 = sample_drop_cols.drop('time_in_shelter', 'age_upon_intake')"
   ]
  },
  {
   "cell_type": "code",
   "execution_count": 69,
   "metadata": {},
   "outputs": [
    {
     "name": "stdout",
     "output_type": "stream",
     "text": [
      "21545\n"
     ]
    },
    {
     "data": {
      "text/plain": [
       "21545"
      ]
     },
     "execution_count": 69,
     "metadata": {},
     "output_type": "execute_result"
    }
   ],
   "source": [
    "print sample_drop_cols_2.count()\n",
    "sample_drop_cols_2.select('animal_id_outcome').distinct().count()"
   ]
  },
  {
   "cell_type": "code",
   "execution_count": 70,
   "metadata": {},
   "outputs": [
    {
     "data": {
      "text/plain": [
       "9"
      ]
     },
     "execution_count": 70,
     "metadata": {},
     "output_type": "execute_result"
    }
   ],
   "source": [
    "sample_drop_cols_2.select('age_upon_outcome_age_group').distinct().count()"
   ]
  },
  {
   "cell_type": "code",
   "execution_count": 71,
   "metadata": {},
   "outputs": [
    {
     "name": "stdout",
     "output_type": "stream",
     "text": [
      "+-----------------+---------------+------------+----------------+------------------------+--------------------------+---------------+------------+--------------+-----------+-----+-----+--------------+----------------+-----------+---------------+---------------------+-------------------------+------------+-----------+--------------+-------------+--------------------+\n",
      "|animal_id_outcome|outcome_subtype|outcome_type|sex_upon_outcome|age_upon_outcome_(years)|age_upon_outcome_age_group|outcome_weekday|outcome_hour|outcome_number|animal_type|breed|color|found_location|intake_condition|intake_type|sex_upon_intake|age_upon_intake_years|age_upon_intake_age_group|intake_month|intake_year|intake_weekday|intake_number|time_in_shelter_days|\n",
      "+-----------------+---------------+------------+----------------+------------------------+--------------------------+---------------+------------+--------------+-----------+-----+-----+--------------+----------------+-----------+---------------+---------------------+-------------------------+------------+-----------+--------------+-------------+--------------------+\n",
      "|                0|          10901|           1|               0|                       0|                         0|              0|           0|             0|          0|    0|    0|             0|               0|          0|              0|                    0|                        0|           0|          0|             0|            0|                   0|\n",
      "+-----------------+---------------+------------+----------------+------------------------+--------------------------+---------------+------------+--------------+-----------+-----+-----+--------------+----------------+-----------+---------------+---------------------+-------------------------+------------+-----------+--------------+-------------+--------------------+\n",
      "\n"
     ]
    }
   ],
   "source": [
    "sample_drop_cols_2.select([count(when(col(c).isNull(), c)).alias(c) for c in sample_drop_cols_2.columns]).show()"
   ]
  },
  {
   "cell_type": "code",
   "execution_count": 72,
   "metadata": {},
   "outputs": [],
   "source": [
    "sample_drop_3 = sample_drop_cols_2.drop('outcome_subtype')"
   ]
  },
  {
   "cell_type": "code",
   "execution_count": 73,
   "metadata": {},
   "outputs": [
    {
     "name": "stdout",
     "output_type": "stream",
     "text": [
      "+-----------------+------------+----------------+------------------------+--------------------------+---------------+------------+--------------+-----------+-----+-----+--------------+----------------+-----------+---------------+---------------------+-------------------------+------------+-----------+--------------+-------------+--------------------+\n",
      "|animal_id_outcome|outcome_type|sex_upon_outcome|age_upon_outcome_(years)|age_upon_outcome_age_group|outcome_weekday|outcome_hour|outcome_number|animal_type|breed|color|found_location|intake_condition|intake_type|sex_upon_intake|age_upon_intake_years|age_upon_intake_age_group|intake_month|intake_year|intake_weekday|intake_number|time_in_shelter_days|\n",
      "+-----------------+------------+----------------+------------------------+--------------------------+---------------+------------+--------------+-----------+-----+-----+--------------+----------------+-----------+---------------+---------------------+-------------------------+------------+-----------+--------------+-------------+--------------------+\n",
      "|                0|           1|               0|                       0|                         0|              0|           0|             0|          0|    0|    0|             0|               0|          0|              0|                    0|                        0|           0|          0|             0|            0|                   0|\n",
      "+-----------------+------------+----------------+------------------------+--------------------------+---------------+------------+--------------+-----------+-----+-----+--------------+----------------+-----------+---------------+---------------------+-------------------------+------------+-----------+--------------+-------------+--------------------+\n",
      "\n"
     ]
    }
   ],
   "source": [
    "sample_drop_3.select([count(when(col(c).isNull(), c)).alias(c) for c in sample_drop_3.columns]).show()"
   ]
  },
  {
   "cell_type": "markdown",
   "metadata": {},
   "source": [
    "## Remove any null values present in the Data. Check the nulls in all columns. All of them should be equal to zero. "
   ]
  },
  {
   "cell_type": "code",
   "execution_count": 74,
   "metadata": {},
   "outputs": [
    {
     "name": "stdout",
     "output_type": "stream",
     "text": [
      "21545\n",
      "21544\n"
     ]
    }
   ],
   "source": [
    "print sample_drop_3.count()\n",
    "sample_drop_4 = sample_drop_3.na.drop()\n",
    "print sample_drop_4.count()"
   ]
  },
  {
   "cell_type": "markdown",
   "metadata": {},
   "source": [
    "## Drop the animal_id_outcome column. Check the number of columns in the data."
   ]
  },
  {
   "cell_type": "code",
   "execution_count": 75,
   "metadata": {},
   "outputs": [
    {
     "data": {
      "text/plain": [
       "21"
      ]
     },
     "execution_count": 75,
     "metadata": {},
     "output_type": "execute_result"
    }
   ],
   "source": [
    "sample_drop_5 = sample_drop_4.drop('animal_id_outcome')\n",
    "len(sample_drop_5.columns)"
   ]
  },
  {
   "cell_type": "markdown",
   "metadata": {},
   "source": [
    "## Split the Data into train and test"
   ]
  },
  {
   "cell_type": "code",
   "execution_count": 76,
   "metadata": {},
   "outputs": [
    {
     "name": "stdout",
     "output_type": "stream",
     "text": [
      "There are 14957 training examples and 6587 test examples.\n"
     ]
    }
   ],
   "source": [
    "train, validation = sample_drop_5.randomSplit([0.7, 0.3])\n",
    "print(\"There are %d training examples and %d test examples.\" %\n",
    "      (train.count(), validation.count()))"
   ]
  },
  {
   "cell_type": "code",
   "execution_count": 80,
   "metadata": {},
   "outputs": [],
   "source": [
    " target_col = \"time_in_shelter\""
   ]
  },
  {
   "cell_type": "code",
   "execution_count": 81,
   "metadata": {},
   "outputs": [
    {
     "data": {
      "text/plain": [
       "[('animal_id_outcome', 'string'),\n",
       " ('age_upon_outcome', 'string'),\n",
       " ('date_of_birth', 'timestamp'),\n",
       " ('outcome_subtype', 'string'),\n",
       " ('outcome_type', 'string'),\n",
       " ('sex_upon_outcome', 'string'),\n",
       " ('age_upon_outcome_(days)', 'int'),\n",
       " ('age_upon_outcome_(years)', 'double'),\n",
       " ('age_upon_outcome_age_group', 'string'),\n",
       " ('outcome_datetime', 'timestamp'),\n",
       " ('outcome_month', 'int'),\n",
       " ('outcome_year', 'int'),\n",
       " ('outcome_monthyear', 'string'),\n",
       " ('outcome_weekday', 'string'),\n",
       " ('outcome_hour', 'int'),\n",
       " ('outcome_number', 'double'),\n",
       " ('dob_year', 'int'),\n",
       " ('dob_month', 'int'),\n",
       " ('dob_monthyear', 'string'),\n",
       " ('age_upon_intake', 'string'),\n",
       " ('animal_id_intake', 'string'),\n",
       " ('animal_type', 'string'),\n",
       " ('breed', 'string'),\n",
       " ('color', 'string'),\n",
       " ('found_location', 'string'),\n",
       " ('intake_condition', 'string'),\n",
       " ('intake_type', 'string'),\n",
       " ('sex_upon_intake', 'string'),\n",
       " ('count', 'int'),\n",
       " ('age_upon_intake_days', 'int'),\n",
       " ('age_upon_intake_years', 'double'),\n",
       " ('age_upon_intake_age_group', 'string'),\n",
       " ('intake_datetime', 'timestamp'),\n",
       " ('intake_month', 'int'),\n",
       " ('intake_year', 'int'),\n",
       " ('intake_monthyear', 'string'),\n",
       " ('intake_weekday', 'string'),\n",
       " ('intake_hour', 'int'),\n",
       " ('intake_number', 'double'),\n",
       " ('time_in_shelter', 'string'),\n",
       " ('time_in_shelter_days', 'double')]"
      ]
     },
     "execution_count": 81,
     "metadata": {},
     "output_type": "execute_result"
    }
   ],
   "source": [
    "dtypes_list = final_Data.dtypes\n",
    "dtypes_list\n"
   ]
  },
  {
   "cell_type": "code",
   "execution_count": 83,
   "metadata": {},
   "outputs": [],
   "source": [
    "cat_cols = [each_val[0] for each_val in dtypes_list\n",
    "            if each_val[1] == 'string' and\n",
    "               each_val[0] not in   target_col]\n"
   ]
  },
  {
   "cell_type": "markdown",
   "metadata": {},
   "source": [
    "## Using Spark ML pipeline, build regression models and Tune the models.\n",
    "HINT: Use setHandleInvalid(“Keep”). "
   ]
  },
  {
   "cell_type": "code",
   "execution_count": null,
   "metadata": {},
   "outputs": [],
   "source": [
    "from pyspark.ml.feature import VectorAssembler\n",
    "\n",
    "num_cols_assembler = VectorAssembler(inputCols = num_cols,\n",
    "                                     outputCol = 'num_cols_vector')"
   ]
  }
 ],
 "metadata": {
  "kernelspec": {
   "display_name": "Python 2",
   "language": "python",
   "name": "python2"
  },
  "language_info": {
   "codemirror_mode": {
    "name": "ipython",
    "version": 2
   },
   "file_extension": ".py",
   "mimetype": "text/x-python",
   "name": "python",
   "nbconvert_exporter": "python",
   "pygments_lexer": "ipython2",
   "version": "2.7.5"
  }
 },
 "nbformat": 4,
 "nbformat_minor": 2
}
